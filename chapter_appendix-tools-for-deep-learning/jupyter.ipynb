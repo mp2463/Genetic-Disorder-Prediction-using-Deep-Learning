{
  "cells": [
    {
      "cell_type": "markdown",
      "metadata": {
        "id": "view-in-github",
        "colab_type": "text"
      },
      "source": [
        "<a href=\"https://colab.research.google.com/github/mp2463/Genetic-Disorder-Prediction-using-Deep-Learning/blob/main/chapter_appendix-tools-for-deep-learning/jupyter.ipynb\" target=\"_parent\"><img src=\"https://colab.research.google.com/assets/colab-badge.svg\" alt=\"Open In Colab\"/></a>"
      ]
    },
    {
      "cell_type": "code",
      "source": [
        "%matplotlib inline\n",
        "\n",
        "import math,time,random,datetime\n",
        "\n",
        "import numpy as np\n",
        "import pandas as pd\n",
        "\n",
        "import matplotlib.pyplot as plt\n",
        "import seaborn as sns\n",
        "import missingno\n",
        "plt.style.use('ggplot')\n",
        "\n",
        "from scipy import stats\n",
        "from scipy.stats import norm,skew\n",
        "\n",
        "pd.set_option('display.max_columns', None)\n",
        "\n",
        "import warnings\n",
        "warnings.filterwarnings('ignore')\n"
      ],
      "metadata": {
        "id": "WX0vvyO6fB8b"
      },
      "id": "WX0vvyO6fB8b",
      "execution_count": 1,
      "outputs": []
    },
    {
      "cell_type": "code",
      "source": [
        "train = pd.read_csv('/content/train_genetic_disorders.csv')\n",
        "test = pd.read_csv('/content/test_genetic_disorders.csv')\n"
      ],
      "metadata": {
        "id": "535Kyp4gfbPc"
      },
      "id": "535Kyp4gfbPc",
      "execution_count": 3,
      "outputs": []
    },
    {
      "cell_type": "code",
      "source": [
        "train.head(3)"
      ],
      "metadata": {
        "id": "l-j-eMAefsnB",
        "outputId": "4196dcbf-9b8a-4cad-89f1-fa4884e93966",
        "colab": {
          "base_uri": "https://localhost:8080/",
          "height": 389
        }
      },
      "id": "l-j-eMAefsnB",
      "execution_count": 4,
      "outputs": [
        {
          "output_type": "execute_result",
          "data": {
            "text/plain": [
              "  Patient Id  Patient Age Genes in mother's side Inherited from father  \\\n",
              "0  PID0x6418          2.0                    Yes                    No   \n",
              "1  PID0x25d5          4.0                    Yes                   Yes   \n",
              "2  PID0x4a82          6.0                    Yes                    No   \n",
              "\n",
              "  Maternal gene Paternal gene  Blood cell count (mcL) Patient First Name  \\\n",
              "0           Yes            No                4.760603            Richard   \n",
              "1            No            No                4.910669               Mike   \n",
              "2            No            No                4.893297           Kimberly   \n",
              "\n",
              "  Family Name Father's name  Mother's age  Father's age  \\\n",
              "0         NaN         Larre           NaN           NaN   \n",
              "1         NaN        Brycen           NaN          23.0   \n",
              "2         NaN        Nashon          41.0          22.0   \n",
              "\n",
              "                               Institute Name  \\\n",
              "0  Boston Specialty & Rehabilitation Hospital   \n",
              "1           St. Margaret's Hospital For Women   \n",
              "2                                         NaN   \n",
              "\n",
              "                               Location of Institute    Status  \\\n",
              "0  55 FRUIT ST\\nCENTRAL, MA 02114\\n(42.3624748574...     Alive   \n",
              "1  1515 COMMONWEALTH AV\\nALLSTON/BRIGHTON, MA 021...  Deceased   \n",
              "2                                                  -     Alive   \n",
              "\n",
              "  Respiratory Rate (breaths/min) Heart Rate (rates/min  Test 1  Test 2  \\\n",
              "0                 Normal (30-60)                Normal     0.0     NaN   \n",
              "1                      Tachypnea                Normal     NaN     0.0   \n",
              "2                 Normal (30-60)           Tachycardia     0.0     0.0   \n",
              "\n",
              "   Test 3  Test 4  Test 5 Parental consent Follow-up Gender Birth asphyxia  \\\n",
              "0     NaN     1.0     0.0              Yes      High    NaN            NaN   \n",
              "1     0.0     1.0     0.0              Yes      High    NaN             No   \n",
              "2     0.0     1.0     0.0              Yes       Low    NaN      No record   \n",
              "\n",
              "  Autopsy shows birth defect (if applicable) Place of birth  \\\n",
              "0                             Not applicable      Institute   \n",
              "1                                        NaN            NaN   \n",
              "2                             Not applicable            NaN   \n",
              "\n",
              "  Folic acid details (peri-conceptional) H/O serious maternal illness  \\\n",
              "0                                     No                          NaN   \n",
              "1                                    Yes                          Yes   \n",
              "2                                    Yes                           No   \n",
              "\n",
              "  H/O radiation exposure (x-ray) H/O substance abuse  \\\n",
              "0                             No                  No   \n",
              "1                 Not applicable      Not applicable   \n",
              "2                            Yes                 NaN   \n",
              "\n",
              "  Assisted conception IVF/ART History of anomalies in previous pregnancies  \\\n",
              "0                          No                                          Yes   \n",
              "1                          No                                          Yes   \n",
              "2                         Yes                                          Yes   \n",
              "\n",
              "   No. of previous abortion Birth defects  \\\n",
              "0                       NaN           NaN   \n",
              "1                       NaN      Multiple   \n",
              "2                       4.0      Singular   \n",
              "\n",
              "   White Blood cell count (thousand per microliter) Blood test result  \\\n",
              "0                                          9.857562               NaN   \n",
              "1                                          5.522560            normal   \n",
              "2                                               NaN            normal   \n",
              "\n",
              "   Symptom 1  Symptom 2  Symptom 3  Symptom 4  Symptom 5  \\\n",
              "0        1.0        1.0        1.0        1.0        1.0   \n",
              "1        1.0        NaN        1.0        1.0        0.0   \n",
              "2        0.0        1.0        1.0        1.0        1.0   \n",
              "\n",
              "                               Genetic Disorder  \\\n",
              "0   Mitochondrial genetic inheritance disorders   \n",
              "1                                           NaN   \n",
              "2  Multifactorial genetic inheritance disorders   \n",
              "\n",
              "                     Disorder Subclass  \n",
              "0  Leber's hereditary optic neuropathy  \n",
              "1                      Cystic fibrosis  \n",
              "2                             Diabetes  "
            ],
            "text/html": [
              "\n",
              "  <div id=\"df-ab03abf0-c4f0-47ed-8b66-32f3e9c962bc\" class=\"colab-df-container\">\n",
              "    <div>\n",
              "<style scoped>\n",
              "    .dataframe tbody tr th:only-of-type {\n",
              "        vertical-align: middle;\n",
              "    }\n",
              "\n",
              "    .dataframe tbody tr th {\n",
              "        vertical-align: top;\n",
              "    }\n",
              "\n",
              "    .dataframe thead th {\n",
              "        text-align: right;\n",
              "    }\n",
              "</style>\n",
              "<table border=\"1\" class=\"dataframe\">\n",
              "  <thead>\n",
              "    <tr style=\"text-align: right;\">\n",
              "      <th></th>\n",
              "      <th>Patient Id</th>\n",
              "      <th>Patient Age</th>\n",
              "      <th>Genes in mother's side</th>\n",
              "      <th>Inherited from father</th>\n",
              "      <th>Maternal gene</th>\n",
              "      <th>Paternal gene</th>\n",
              "      <th>Blood cell count (mcL)</th>\n",
              "      <th>Patient First Name</th>\n",
              "      <th>Family Name</th>\n",
              "      <th>Father's name</th>\n",
              "      <th>Mother's age</th>\n",
              "      <th>Father's age</th>\n",
              "      <th>Institute Name</th>\n",
              "      <th>Location of Institute</th>\n",
              "      <th>Status</th>\n",
              "      <th>Respiratory Rate (breaths/min)</th>\n",
              "      <th>Heart Rate (rates/min</th>\n",
              "      <th>Test 1</th>\n",
              "      <th>Test 2</th>\n",
              "      <th>Test 3</th>\n",
              "      <th>Test 4</th>\n",
              "      <th>Test 5</th>\n",
              "      <th>Parental consent</th>\n",
              "      <th>Follow-up</th>\n",
              "      <th>Gender</th>\n",
              "      <th>Birth asphyxia</th>\n",
              "      <th>Autopsy shows birth defect (if applicable)</th>\n",
              "      <th>Place of birth</th>\n",
              "      <th>Folic acid details (peri-conceptional)</th>\n",
              "      <th>H/O serious maternal illness</th>\n",
              "      <th>H/O radiation exposure (x-ray)</th>\n",
              "      <th>H/O substance abuse</th>\n",
              "      <th>Assisted conception IVF/ART</th>\n",
              "      <th>History of anomalies in previous pregnancies</th>\n",
              "      <th>No. of previous abortion</th>\n",
              "      <th>Birth defects</th>\n",
              "      <th>White Blood cell count (thousand per microliter)</th>\n",
              "      <th>Blood test result</th>\n",
              "      <th>Symptom 1</th>\n",
              "      <th>Symptom 2</th>\n",
              "      <th>Symptom 3</th>\n",
              "      <th>Symptom 4</th>\n",
              "      <th>Symptom 5</th>\n",
              "      <th>Genetic Disorder</th>\n",
              "      <th>Disorder Subclass</th>\n",
              "    </tr>\n",
              "  </thead>\n",
              "  <tbody>\n",
              "    <tr>\n",
              "      <th>0</th>\n",
              "      <td>PID0x6418</td>\n",
              "      <td>2.0</td>\n",
              "      <td>Yes</td>\n",
              "      <td>No</td>\n",
              "      <td>Yes</td>\n",
              "      <td>No</td>\n",
              "      <td>4.760603</td>\n",
              "      <td>Richard</td>\n",
              "      <td>NaN</td>\n",
              "      <td>Larre</td>\n",
              "      <td>NaN</td>\n",
              "      <td>NaN</td>\n",
              "      <td>Boston Specialty &amp; Rehabilitation Hospital</td>\n",
              "      <td>55 FRUIT ST\\nCENTRAL, MA 02114\\n(42.3624748574...</td>\n",
              "      <td>Alive</td>\n",
              "      <td>Normal (30-60)</td>\n",
              "      <td>Normal</td>\n",
              "      <td>0.0</td>\n",
              "      <td>NaN</td>\n",
              "      <td>NaN</td>\n",
              "      <td>1.0</td>\n",
              "      <td>0.0</td>\n",
              "      <td>Yes</td>\n",
              "      <td>High</td>\n",
              "      <td>NaN</td>\n",
              "      <td>NaN</td>\n",
              "      <td>Not applicable</td>\n",
              "      <td>Institute</td>\n",
              "      <td>No</td>\n",
              "      <td>NaN</td>\n",
              "      <td>No</td>\n",
              "      <td>No</td>\n",
              "      <td>No</td>\n",
              "      <td>Yes</td>\n",
              "      <td>NaN</td>\n",
              "      <td>NaN</td>\n",
              "      <td>9.857562</td>\n",
              "      <td>NaN</td>\n",
              "      <td>1.0</td>\n",
              "      <td>1.0</td>\n",
              "      <td>1.0</td>\n",
              "      <td>1.0</td>\n",
              "      <td>1.0</td>\n",
              "      <td>Mitochondrial genetic inheritance disorders</td>\n",
              "      <td>Leber's hereditary optic neuropathy</td>\n",
              "    </tr>\n",
              "    <tr>\n",
              "      <th>1</th>\n",
              "      <td>PID0x25d5</td>\n",
              "      <td>4.0</td>\n",
              "      <td>Yes</td>\n",
              "      <td>Yes</td>\n",
              "      <td>No</td>\n",
              "      <td>No</td>\n",
              "      <td>4.910669</td>\n",
              "      <td>Mike</td>\n",
              "      <td>NaN</td>\n",
              "      <td>Brycen</td>\n",
              "      <td>NaN</td>\n",
              "      <td>23.0</td>\n",
              "      <td>St. Margaret's Hospital For Women</td>\n",
              "      <td>1515 COMMONWEALTH AV\\nALLSTON/BRIGHTON, MA 021...</td>\n",
              "      <td>Deceased</td>\n",
              "      <td>Tachypnea</td>\n",
              "      <td>Normal</td>\n",
              "      <td>NaN</td>\n",
              "      <td>0.0</td>\n",
              "      <td>0.0</td>\n",
              "      <td>1.0</td>\n",
              "      <td>0.0</td>\n",
              "      <td>Yes</td>\n",
              "      <td>High</td>\n",
              "      <td>NaN</td>\n",
              "      <td>No</td>\n",
              "      <td>NaN</td>\n",
              "      <td>NaN</td>\n",
              "      <td>Yes</td>\n",
              "      <td>Yes</td>\n",
              "      <td>Not applicable</td>\n",
              "      <td>Not applicable</td>\n",
              "      <td>No</td>\n",
              "      <td>Yes</td>\n",
              "      <td>NaN</td>\n",
              "      <td>Multiple</td>\n",
              "      <td>5.522560</td>\n",
              "      <td>normal</td>\n",
              "      <td>1.0</td>\n",
              "      <td>NaN</td>\n",
              "      <td>1.0</td>\n",
              "      <td>1.0</td>\n",
              "      <td>0.0</td>\n",
              "      <td>NaN</td>\n",
              "      <td>Cystic fibrosis</td>\n",
              "    </tr>\n",
              "    <tr>\n",
              "      <th>2</th>\n",
              "      <td>PID0x4a82</td>\n",
              "      <td>6.0</td>\n",
              "      <td>Yes</td>\n",
              "      <td>No</td>\n",
              "      <td>No</td>\n",
              "      <td>No</td>\n",
              "      <td>4.893297</td>\n",
              "      <td>Kimberly</td>\n",
              "      <td>NaN</td>\n",
              "      <td>Nashon</td>\n",
              "      <td>41.0</td>\n",
              "      <td>22.0</td>\n",
              "      <td>NaN</td>\n",
              "      <td>-</td>\n",
              "      <td>Alive</td>\n",
              "      <td>Normal (30-60)</td>\n",
              "      <td>Tachycardia</td>\n",
              "      <td>0.0</td>\n",
              "      <td>0.0</td>\n",
              "      <td>0.0</td>\n",
              "      <td>1.0</td>\n",
              "      <td>0.0</td>\n",
              "      <td>Yes</td>\n",
              "      <td>Low</td>\n",
              "      <td>NaN</td>\n",
              "      <td>No record</td>\n",
              "      <td>Not applicable</td>\n",
              "      <td>NaN</td>\n",
              "      <td>Yes</td>\n",
              "      <td>No</td>\n",
              "      <td>Yes</td>\n",
              "      <td>NaN</td>\n",
              "      <td>Yes</td>\n",
              "      <td>Yes</td>\n",
              "      <td>4.0</td>\n",
              "      <td>Singular</td>\n",
              "      <td>NaN</td>\n",
              "      <td>normal</td>\n",
              "      <td>0.0</td>\n",
              "      <td>1.0</td>\n",
              "      <td>1.0</td>\n",
              "      <td>1.0</td>\n",
              "      <td>1.0</td>\n",
              "      <td>Multifactorial genetic inheritance disorders</td>\n",
              "      <td>Diabetes</td>\n",
              "    </tr>\n",
              "  </tbody>\n",
              "</table>\n",
              "</div>\n",
              "    <div class=\"colab-df-buttons\">\n",
              "\n",
              "  <div class=\"colab-df-container\">\n",
              "    <button class=\"colab-df-convert\" onclick=\"convertToInteractive('df-ab03abf0-c4f0-47ed-8b66-32f3e9c962bc')\"\n",
              "            title=\"Convert this dataframe to an interactive table.\"\n",
              "            style=\"display:none;\">\n",
              "\n",
              "  <svg xmlns=\"http://www.w3.org/2000/svg\" height=\"24px\" viewBox=\"0 -960 960 960\">\n",
              "    <path d=\"M120-120v-720h720v720H120Zm60-500h600v-160H180v160Zm220 220h160v-160H400v160Zm0 220h160v-160H400v160ZM180-400h160v-160H180v160Zm440 0h160v-160H620v160ZM180-180h160v-160H180v160Zm440 0h160v-160H620v160Z\"/>\n",
              "  </svg>\n",
              "    </button>\n",
              "\n",
              "  <style>\n",
              "    .colab-df-container {\n",
              "      display:flex;\n",
              "      gap: 12px;\n",
              "    }\n",
              "\n",
              "    .colab-df-convert {\n",
              "      background-color: #E8F0FE;\n",
              "      border: none;\n",
              "      border-radius: 50%;\n",
              "      cursor: pointer;\n",
              "      display: none;\n",
              "      fill: #1967D2;\n",
              "      height: 32px;\n",
              "      padding: 0 0 0 0;\n",
              "      width: 32px;\n",
              "    }\n",
              "\n",
              "    .colab-df-convert:hover {\n",
              "      background-color: #E2EBFA;\n",
              "      box-shadow: 0px 1px 2px rgba(60, 64, 67, 0.3), 0px 1px 3px 1px rgba(60, 64, 67, 0.15);\n",
              "      fill: #174EA6;\n",
              "    }\n",
              "\n",
              "    .colab-df-buttons div {\n",
              "      margin-bottom: 4px;\n",
              "    }\n",
              "\n",
              "    [theme=dark] .colab-df-convert {\n",
              "      background-color: #3B4455;\n",
              "      fill: #D2E3FC;\n",
              "    }\n",
              "\n",
              "    [theme=dark] .colab-df-convert:hover {\n",
              "      background-color: #434B5C;\n",
              "      box-shadow: 0px 1px 3px 1px rgba(0, 0, 0, 0.15);\n",
              "      filter: drop-shadow(0px 1px 2px rgba(0, 0, 0, 0.3));\n",
              "      fill: #FFFFFF;\n",
              "    }\n",
              "  </style>\n",
              "\n",
              "    <script>\n",
              "      const buttonEl =\n",
              "        document.querySelector('#df-ab03abf0-c4f0-47ed-8b66-32f3e9c962bc button.colab-df-convert');\n",
              "      buttonEl.style.display =\n",
              "        google.colab.kernel.accessAllowed ? 'block' : 'none';\n",
              "\n",
              "      async function convertToInteractive(key) {\n",
              "        const element = document.querySelector('#df-ab03abf0-c4f0-47ed-8b66-32f3e9c962bc');\n",
              "        const dataTable =\n",
              "          await google.colab.kernel.invokeFunction('convertToInteractive',\n",
              "                                                    [key], {});\n",
              "        if (!dataTable) return;\n",
              "\n",
              "        const docLinkHtml = 'Like what you see? Visit the ' +\n",
              "          '<a target=\"_blank\" href=https://colab.research.google.com/notebooks/data_table.ipynb>data table notebook</a>'\n",
              "          + ' to learn more about interactive tables.';\n",
              "        element.innerHTML = '';\n",
              "        dataTable['output_type'] = 'display_data';\n",
              "        await google.colab.output.renderOutput(dataTable, element);\n",
              "        const docLink = document.createElement('div');\n",
              "        docLink.innerHTML = docLinkHtml;\n",
              "        element.appendChild(docLink);\n",
              "      }\n",
              "    </script>\n",
              "  </div>\n",
              "\n",
              "\n",
              "<div id=\"df-1a0df1fe-48eb-40d9-9dca-6f405a7c3dc6\">\n",
              "  <button class=\"colab-df-quickchart\" onclick=\"quickchart('df-1a0df1fe-48eb-40d9-9dca-6f405a7c3dc6')\"\n",
              "            title=\"Suggest charts\"\n",
              "            style=\"display:none;\">\n",
              "\n",
              "<svg xmlns=\"http://www.w3.org/2000/svg\" height=\"24px\"viewBox=\"0 0 24 24\"\n",
              "     width=\"24px\">\n",
              "    <g>\n",
              "        <path d=\"M19 3H5c-1.1 0-2 .9-2 2v14c0 1.1.9 2 2 2h14c1.1 0 2-.9 2-2V5c0-1.1-.9-2-2-2zM9 17H7v-7h2v7zm4 0h-2V7h2v10zm4 0h-2v-4h2v4z\"/>\n",
              "    </g>\n",
              "</svg>\n",
              "  </button>\n",
              "\n",
              "<style>\n",
              "  .colab-df-quickchart {\n",
              "      --bg-color: #E8F0FE;\n",
              "      --fill-color: #1967D2;\n",
              "      --hover-bg-color: #E2EBFA;\n",
              "      --hover-fill-color: #174EA6;\n",
              "      --disabled-fill-color: #AAA;\n",
              "      --disabled-bg-color: #DDD;\n",
              "  }\n",
              "\n",
              "  [theme=dark] .colab-df-quickchart {\n",
              "      --bg-color: #3B4455;\n",
              "      --fill-color: #D2E3FC;\n",
              "      --hover-bg-color: #434B5C;\n",
              "      --hover-fill-color: #FFFFFF;\n",
              "      --disabled-bg-color: #3B4455;\n",
              "      --disabled-fill-color: #666;\n",
              "  }\n",
              "\n",
              "  .colab-df-quickchart {\n",
              "    background-color: var(--bg-color);\n",
              "    border: none;\n",
              "    border-radius: 50%;\n",
              "    cursor: pointer;\n",
              "    display: none;\n",
              "    fill: var(--fill-color);\n",
              "    height: 32px;\n",
              "    padding: 0;\n",
              "    width: 32px;\n",
              "  }\n",
              "\n",
              "  .colab-df-quickchart:hover {\n",
              "    background-color: var(--hover-bg-color);\n",
              "    box-shadow: 0 1px 2px rgba(60, 64, 67, 0.3), 0 1px 3px 1px rgba(60, 64, 67, 0.15);\n",
              "    fill: var(--button-hover-fill-color);\n",
              "  }\n",
              "\n",
              "  .colab-df-quickchart-complete:disabled,\n",
              "  .colab-df-quickchart-complete:disabled:hover {\n",
              "    background-color: var(--disabled-bg-color);\n",
              "    fill: var(--disabled-fill-color);\n",
              "    box-shadow: none;\n",
              "  }\n",
              "\n",
              "  .colab-df-spinner {\n",
              "    border: 2px solid var(--fill-color);\n",
              "    border-color: transparent;\n",
              "    border-bottom-color: var(--fill-color);\n",
              "    animation:\n",
              "      spin 1s steps(1) infinite;\n",
              "  }\n",
              "\n",
              "  @keyframes spin {\n",
              "    0% {\n",
              "      border-color: transparent;\n",
              "      border-bottom-color: var(--fill-color);\n",
              "      border-left-color: var(--fill-color);\n",
              "    }\n",
              "    20% {\n",
              "      border-color: transparent;\n",
              "      border-left-color: var(--fill-color);\n",
              "      border-top-color: var(--fill-color);\n",
              "    }\n",
              "    30% {\n",
              "      border-color: transparent;\n",
              "      border-left-color: var(--fill-color);\n",
              "      border-top-color: var(--fill-color);\n",
              "      border-right-color: var(--fill-color);\n",
              "    }\n",
              "    40% {\n",
              "      border-color: transparent;\n",
              "      border-right-color: var(--fill-color);\n",
              "      border-top-color: var(--fill-color);\n",
              "    }\n",
              "    60% {\n",
              "      border-color: transparent;\n",
              "      border-right-color: var(--fill-color);\n",
              "    }\n",
              "    80% {\n",
              "      border-color: transparent;\n",
              "      border-right-color: var(--fill-color);\n",
              "      border-bottom-color: var(--fill-color);\n",
              "    }\n",
              "    90% {\n",
              "      border-color: transparent;\n",
              "      border-bottom-color: var(--fill-color);\n",
              "    }\n",
              "  }\n",
              "</style>\n",
              "\n",
              "  <script>\n",
              "    async function quickchart(key) {\n",
              "      const quickchartButtonEl =\n",
              "        document.querySelector('#' + key + ' button');\n",
              "      quickchartButtonEl.disabled = true;  // To prevent multiple clicks.\n",
              "      quickchartButtonEl.classList.add('colab-df-spinner');\n",
              "      try {\n",
              "        const charts = await google.colab.kernel.invokeFunction(\n",
              "            'suggestCharts', [key], {});\n",
              "      } catch (error) {\n",
              "        console.error('Error during call to suggestCharts:', error);\n",
              "      }\n",
              "      quickchartButtonEl.classList.remove('colab-df-spinner');\n",
              "      quickchartButtonEl.classList.add('colab-df-quickchart-complete');\n",
              "    }\n",
              "    (() => {\n",
              "      let quickchartButtonEl =\n",
              "        document.querySelector('#df-1a0df1fe-48eb-40d9-9dca-6f405a7c3dc6 button');\n",
              "      quickchartButtonEl.style.display =\n",
              "        google.colab.kernel.accessAllowed ? 'block' : 'none';\n",
              "    })();\n",
              "  </script>\n",
              "</div>\n",
              "\n",
              "    </div>\n",
              "  </div>\n"
            ],
            "application/vnd.google.colaboratory.intrinsic+json": {
              "type": "dataframe",
              "variable_name": "train"
            }
          },
          "metadata": {},
          "execution_count": 4
        }
      ]
    },
    {
      "cell_type": "code",
      "source": [
        "print(\"Dimensionality of the train dataset: \", train.shape)"
      ],
      "metadata": {
        "id": "mR35oZHSfxFA",
        "outputId": "d44c4bf2-3b0d-4f26-cb9f-36aea110ea0f",
        "colab": {
          "base_uri": "https://localhost:8080/"
        }
      },
      "id": "mR35oZHSfxFA",
      "execution_count": 5,
      "outputs": [
        {
          "output_type": "stream",
          "name": "stdout",
          "text": [
            "Dimensionality of the train dataset:  (22083, 45)\n"
          ]
        }
      ]
    },
    {
      "cell_type": "code",
      "source": [
        "train.describe()"
      ],
      "metadata": {
        "id": "LrYV2BQgf2RW",
        "outputId": "640135e6-af56-4004-ce16-136594f1df7d",
        "colab": {
          "base_uri": "https://localhost:8080/",
          "height": 389
        }
      },
      "id": "LrYV2BQgf2RW",
      "execution_count": 6,
      "outputs": [
        {
          "output_type": "execute_result",
          "data": {
            "text/plain": [
              "        Patient Age  Blood cell count (mcL)  Mother's age  Father's age  \\\n",
              "count  19643.000000            21011.000000  15293.000000  15322.000000   \n",
              "mean       6.974851                4.899004     34.522527     41.942436   \n",
              "std        4.322584                0.199829      9.847256     13.027701   \n",
              "min        0.000000                4.092727     18.000000     20.000000   \n",
              "25%        3.000000                4.763230     26.000000     31.000000   \n",
              "50%        7.000000                4.899548     35.000000     42.000000   \n",
              "75%       11.000000                5.033977     43.000000     53.000000   \n",
              "max       14.000000                5.609829     51.000000     64.000000   \n",
              "\n",
              "        Test 1   Test 2   Test 3   Test 4   Test 5  No. of previous abortion  \\\n",
              "count  18992.0  18958.0  18970.0  18962.0  18939.0              18957.000000   \n",
              "mean       0.0      0.0      0.0      1.0      0.0                  2.000106   \n",
              "std        0.0      0.0      0.0      0.0      0.0                  1.411488   \n",
              "min        0.0      0.0      0.0      1.0      0.0                  0.000000   \n",
              "25%        0.0      0.0      0.0      1.0      0.0                  1.000000   \n",
              "50%        0.0      0.0      0.0      1.0      0.0                  2.000000   \n",
              "75%        0.0      0.0      0.0      1.0      0.0                  3.000000   \n",
              "max        0.0      0.0      0.0      1.0      0.0                  4.000000   \n",
              "\n",
              "       White Blood cell count (thousand per microliter)     Symptom 1  \\\n",
              "count                                      18965.000000  18955.000000   \n",
              "mean                                           7.484680      0.592034   \n",
              "std                                            2.653633      0.491470   \n",
              "min                                            3.000000      0.000000   \n",
              "25%                                            5.419026      0.000000   \n",
              "50%                                            7.473071      1.000000   \n",
              "75%                                            9.528684      1.000000   \n",
              "max                                           12.000000      1.000000   \n",
              "\n",
              "          Symptom 2     Symptom 3     Symptom 4     Symptom 5  \n",
              "count  18899.000000  19008.000000  18987.000000  18956.000000  \n",
              "mean       0.552886      0.537405      0.497393      0.460804  \n",
              "std        0.497208      0.498612      0.500006      0.498474  \n",
              "min        0.000000      0.000000      0.000000      0.000000  \n",
              "25%        0.000000      0.000000      0.000000      0.000000  \n",
              "50%        1.000000      1.000000      0.000000      0.000000  \n",
              "75%        1.000000      1.000000      1.000000      1.000000  \n",
              "max        1.000000      1.000000      1.000000      1.000000  "
            ],
            "text/html": [
              "\n",
              "  <div id=\"df-538f841d-a4fe-4cd8-9539-430f36704c20\" class=\"colab-df-container\">\n",
              "    <div>\n",
              "<style scoped>\n",
              "    .dataframe tbody tr th:only-of-type {\n",
              "        vertical-align: middle;\n",
              "    }\n",
              "\n",
              "    .dataframe tbody tr th {\n",
              "        vertical-align: top;\n",
              "    }\n",
              "\n",
              "    .dataframe thead th {\n",
              "        text-align: right;\n",
              "    }\n",
              "</style>\n",
              "<table border=\"1\" class=\"dataframe\">\n",
              "  <thead>\n",
              "    <tr style=\"text-align: right;\">\n",
              "      <th></th>\n",
              "      <th>Patient Age</th>\n",
              "      <th>Blood cell count (mcL)</th>\n",
              "      <th>Mother's age</th>\n",
              "      <th>Father's age</th>\n",
              "      <th>Test 1</th>\n",
              "      <th>Test 2</th>\n",
              "      <th>Test 3</th>\n",
              "      <th>Test 4</th>\n",
              "      <th>Test 5</th>\n",
              "      <th>No. of previous abortion</th>\n",
              "      <th>White Blood cell count (thousand per microliter)</th>\n",
              "      <th>Symptom 1</th>\n",
              "      <th>Symptom 2</th>\n",
              "      <th>Symptom 3</th>\n",
              "      <th>Symptom 4</th>\n",
              "      <th>Symptom 5</th>\n",
              "    </tr>\n",
              "  </thead>\n",
              "  <tbody>\n",
              "    <tr>\n",
              "      <th>count</th>\n",
              "      <td>19643.000000</td>\n",
              "      <td>21011.000000</td>\n",
              "      <td>15293.000000</td>\n",
              "      <td>15322.000000</td>\n",
              "      <td>18992.0</td>\n",
              "      <td>18958.0</td>\n",
              "      <td>18970.0</td>\n",
              "      <td>18962.0</td>\n",
              "      <td>18939.0</td>\n",
              "      <td>18957.000000</td>\n",
              "      <td>18965.000000</td>\n",
              "      <td>18955.000000</td>\n",
              "      <td>18899.000000</td>\n",
              "      <td>19008.000000</td>\n",
              "      <td>18987.000000</td>\n",
              "      <td>18956.000000</td>\n",
              "    </tr>\n",
              "    <tr>\n",
              "      <th>mean</th>\n",
              "      <td>6.974851</td>\n",
              "      <td>4.899004</td>\n",
              "      <td>34.522527</td>\n",
              "      <td>41.942436</td>\n",
              "      <td>0.0</td>\n",
              "      <td>0.0</td>\n",
              "      <td>0.0</td>\n",
              "      <td>1.0</td>\n",
              "      <td>0.0</td>\n",
              "      <td>2.000106</td>\n",
              "      <td>7.484680</td>\n",
              "      <td>0.592034</td>\n",
              "      <td>0.552886</td>\n",
              "      <td>0.537405</td>\n",
              "      <td>0.497393</td>\n",
              "      <td>0.460804</td>\n",
              "    </tr>\n",
              "    <tr>\n",
              "      <th>std</th>\n",
              "      <td>4.322584</td>\n",
              "      <td>0.199829</td>\n",
              "      <td>9.847256</td>\n",
              "      <td>13.027701</td>\n",
              "      <td>0.0</td>\n",
              "      <td>0.0</td>\n",
              "      <td>0.0</td>\n",
              "      <td>0.0</td>\n",
              "      <td>0.0</td>\n",
              "      <td>1.411488</td>\n",
              "      <td>2.653633</td>\n",
              "      <td>0.491470</td>\n",
              "      <td>0.497208</td>\n",
              "      <td>0.498612</td>\n",
              "      <td>0.500006</td>\n",
              "      <td>0.498474</td>\n",
              "    </tr>\n",
              "    <tr>\n",
              "      <th>min</th>\n",
              "      <td>0.000000</td>\n",
              "      <td>4.092727</td>\n",
              "      <td>18.000000</td>\n",
              "      <td>20.000000</td>\n",
              "      <td>0.0</td>\n",
              "      <td>0.0</td>\n",
              "      <td>0.0</td>\n",
              "      <td>1.0</td>\n",
              "      <td>0.0</td>\n",
              "      <td>0.000000</td>\n",
              "      <td>3.000000</td>\n",
              "      <td>0.000000</td>\n",
              "      <td>0.000000</td>\n",
              "      <td>0.000000</td>\n",
              "      <td>0.000000</td>\n",
              "      <td>0.000000</td>\n",
              "    </tr>\n",
              "    <tr>\n",
              "      <th>25%</th>\n",
              "      <td>3.000000</td>\n",
              "      <td>4.763230</td>\n",
              "      <td>26.000000</td>\n",
              "      <td>31.000000</td>\n",
              "      <td>0.0</td>\n",
              "      <td>0.0</td>\n",
              "      <td>0.0</td>\n",
              "      <td>1.0</td>\n",
              "      <td>0.0</td>\n",
              "      <td>1.000000</td>\n",
              "      <td>5.419026</td>\n",
              "      <td>0.000000</td>\n",
              "      <td>0.000000</td>\n",
              "      <td>0.000000</td>\n",
              "      <td>0.000000</td>\n",
              "      <td>0.000000</td>\n",
              "    </tr>\n",
              "    <tr>\n",
              "      <th>50%</th>\n",
              "      <td>7.000000</td>\n",
              "      <td>4.899548</td>\n",
              "      <td>35.000000</td>\n",
              "      <td>42.000000</td>\n",
              "      <td>0.0</td>\n",
              "      <td>0.0</td>\n",
              "      <td>0.0</td>\n",
              "      <td>1.0</td>\n",
              "      <td>0.0</td>\n",
              "      <td>2.000000</td>\n",
              "      <td>7.473071</td>\n",
              "      <td>1.000000</td>\n",
              "      <td>1.000000</td>\n",
              "      <td>1.000000</td>\n",
              "      <td>0.000000</td>\n",
              "      <td>0.000000</td>\n",
              "    </tr>\n",
              "    <tr>\n",
              "      <th>75%</th>\n",
              "      <td>11.000000</td>\n",
              "      <td>5.033977</td>\n",
              "      <td>43.000000</td>\n",
              "      <td>53.000000</td>\n",
              "      <td>0.0</td>\n",
              "      <td>0.0</td>\n",
              "      <td>0.0</td>\n",
              "      <td>1.0</td>\n",
              "      <td>0.0</td>\n",
              "      <td>3.000000</td>\n",
              "      <td>9.528684</td>\n",
              "      <td>1.000000</td>\n",
              "      <td>1.000000</td>\n",
              "      <td>1.000000</td>\n",
              "      <td>1.000000</td>\n",
              "      <td>1.000000</td>\n",
              "    </tr>\n",
              "    <tr>\n",
              "      <th>max</th>\n",
              "      <td>14.000000</td>\n",
              "      <td>5.609829</td>\n",
              "      <td>51.000000</td>\n",
              "      <td>64.000000</td>\n",
              "      <td>0.0</td>\n",
              "      <td>0.0</td>\n",
              "      <td>0.0</td>\n",
              "      <td>1.0</td>\n",
              "      <td>0.0</td>\n",
              "      <td>4.000000</td>\n",
              "      <td>12.000000</td>\n",
              "      <td>1.000000</td>\n",
              "      <td>1.000000</td>\n",
              "      <td>1.000000</td>\n",
              "      <td>1.000000</td>\n",
              "      <td>1.000000</td>\n",
              "    </tr>\n",
              "  </tbody>\n",
              "</table>\n",
              "</div>\n",
              "    <div class=\"colab-df-buttons\">\n",
              "\n",
              "  <div class=\"colab-df-container\">\n",
              "    <button class=\"colab-df-convert\" onclick=\"convertToInteractive('df-538f841d-a4fe-4cd8-9539-430f36704c20')\"\n",
              "            title=\"Convert this dataframe to an interactive table.\"\n",
              "            style=\"display:none;\">\n",
              "\n",
              "  <svg xmlns=\"http://www.w3.org/2000/svg\" height=\"24px\" viewBox=\"0 -960 960 960\">\n",
              "    <path d=\"M120-120v-720h720v720H120Zm60-500h600v-160H180v160Zm220 220h160v-160H400v160Zm0 220h160v-160H400v160ZM180-400h160v-160H180v160Zm440 0h160v-160H620v160ZM180-180h160v-160H180v160Zm440 0h160v-160H620v160Z\"/>\n",
              "  </svg>\n",
              "    </button>\n",
              "\n",
              "  <style>\n",
              "    .colab-df-container {\n",
              "      display:flex;\n",
              "      gap: 12px;\n",
              "    }\n",
              "\n",
              "    .colab-df-convert {\n",
              "      background-color: #E8F0FE;\n",
              "      border: none;\n",
              "      border-radius: 50%;\n",
              "      cursor: pointer;\n",
              "      display: none;\n",
              "      fill: #1967D2;\n",
              "      height: 32px;\n",
              "      padding: 0 0 0 0;\n",
              "      width: 32px;\n",
              "    }\n",
              "\n",
              "    .colab-df-convert:hover {\n",
              "      background-color: #E2EBFA;\n",
              "      box-shadow: 0px 1px 2px rgba(60, 64, 67, 0.3), 0px 1px 3px 1px rgba(60, 64, 67, 0.15);\n",
              "      fill: #174EA6;\n",
              "    }\n",
              "\n",
              "    .colab-df-buttons div {\n",
              "      margin-bottom: 4px;\n",
              "    }\n",
              "\n",
              "    [theme=dark] .colab-df-convert {\n",
              "      background-color: #3B4455;\n",
              "      fill: #D2E3FC;\n",
              "    }\n",
              "\n",
              "    [theme=dark] .colab-df-convert:hover {\n",
              "      background-color: #434B5C;\n",
              "      box-shadow: 0px 1px 3px 1px rgba(0, 0, 0, 0.15);\n",
              "      filter: drop-shadow(0px 1px 2px rgba(0, 0, 0, 0.3));\n",
              "      fill: #FFFFFF;\n",
              "    }\n",
              "  </style>\n",
              "\n",
              "    <script>\n",
              "      const buttonEl =\n",
              "        document.querySelector('#df-538f841d-a4fe-4cd8-9539-430f36704c20 button.colab-df-convert');\n",
              "      buttonEl.style.display =\n",
              "        google.colab.kernel.accessAllowed ? 'block' : 'none';\n",
              "\n",
              "      async function convertToInteractive(key) {\n",
              "        const element = document.querySelector('#df-538f841d-a4fe-4cd8-9539-430f36704c20');\n",
              "        const dataTable =\n",
              "          await google.colab.kernel.invokeFunction('convertToInteractive',\n",
              "                                                    [key], {});\n",
              "        if (!dataTable) return;\n",
              "\n",
              "        const docLinkHtml = 'Like what you see? Visit the ' +\n",
              "          '<a target=\"_blank\" href=https://colab.research.google.com/notebooks/data_table.ipynb>data table notebook</a>'\n",
              "          + ' to learn more about interactive tables.';\n",
              "        element.innerHTML = '';\n",
              "        dataTable['output_type'] = 'display_data';\n",
              "        await google.colab.output.renderOutput(dataTable, element);\n",
              "        const docLink = document.createElement('div');\n",
              "        docLink.innerHTML = docLinkHtml;\n",
              "        element.appendChild(docLink);\n",
              "      }\n",
              "    </script>\n",
              "  </div>\n",
              "\n",
              "\n",
              "<div id=\"df-54954e40-329d-453d-b98e-a9f1b41bb070\">\n",
              "  <button class=\"colab-df-quickchart\" onclick=\"quickchart('df-54954e40-329d-453d-b98e-a9f1b41bb070')\"\n",
              "            title=\"Suggest charts\"\n",
              "            style=\"display:none;\">\n",
              "\n",
              "<svg xmlns=\"http://www.w3.org/2000/svg\" height=\"24px\"viewBox=\"0 0 24 24\"\n",
              "     width=\"24px\">\n",
              "    <g>\n",
              "        <path d=\"M19 3H5c-1.1 0-2 .9-2 2v14c0 1.1.9 2 2 2h14c1.1 0 2-.9 2-2V5c0-1.1-.9-2-2-2zM9 17H7v-7h2v7zm4 0h-2V7h2v10zm4 0h-2v-4h2v4z\"/>\n",
              "    </g>\n",
              "</svg>\n",
              "  </button>\n",
              "\n",
              "<style>\n",
              "  .colab-df-quickchart {\n",
              "      --bg-color: #E8F0FE;\n",
              "      --fill-color: #1967D2;\n",
              "      --hover-bg-color: #E2EBFA;\n",
              "      --hover-fill-color: #174EA6;\n",
              "      --disabled-fill-color: #AAA;\n",
              "      --disabled-bg-color: #DDD;\n",
              "  }\n",
              "\n",
              "  [theme=dark] .colab-df-quickchart {\n",
              "      --bg-color: #3B4455;\n",
              "      --fill-color: #D2E3FC;\n",
              "      --hover-bg-color: #434B5C;\n",
              "      --hover-fill-color: #FFFFFF;\n",
              "      --disabled-bg-color: #3B4455;\n",
              "      --disabled-fill-color: #666;\n",
              "  }\n",
              "\n",
              "  .colab-df-quickchart {\n",
              "    background-color: var(--bg-color);\n",
              "    border: none;\n",
              "    border-radius: 50%;\n",
              "    cursor: pointer;\n",
              "    display: none;\n",
              "    fill: var(--fill-color);\n",
              "    height: 32px;\n",
              "    padding: 0;\n",
              "    width: 32px;\n",
              "  }\n",
              "\n",
              "  .colab-df-quickchart:hover {\n",
              "    background-color: var(--hover-bg-color);\n",
              "    box-shadow: 0 1px 2px rgba(60, 64, 67, 0.3), 0 1px 3px 1px rgba(60, 64, 67, 0.15);\n",
              "    fill: var(--button-hover-fill-color);\n",
              "  }\n",
              "\n",
              "  .colab-df-quickchart-complete:disabled,\n",
              "  .colab-df-quickchart-complete:disabled:hover {\n",
              "    background-color: var(--disabled-bg-color);\n",
              "    fill: var(--disabled-fill-color);\n",
              "    box-shadow: none;\n",
              "  }\n",
              "\n",
              "  .colab-df-spinner {\n",
              "    border: 2px solid var(--fill-color);\n",
              "    border-color: transparent;\n",
              "    border-bottom-color: var(--fill-color);\n",
              "    animation:\n",
              "      spin 1s steps(1) infinite;\n",
              "  }\n",
              "\n",
              "  @keyframes spin {\n",
              "    0% {\n",
              "      border-color: transparent;\n",
              "      border-bottom-color: var(--fill-color);\n",
              "      border-left-color: var(--fill-color);\n",
              "    }\n",
              "    20% {\n",
              "      border-color: transparent;\n",
              "      border-left-color: var(--fill-color);\n",
              "      border-top-color: var(--fill-color);\n",
              "    }\n",
              "    30% {\n",
              "      border-color: transparent;\n",
              "      border-left-color: var(--fill-color);\n",
              "      border-top-color: var(--fill-color);\n",
              "      border-right-color: var(--fill-color);\n",
              "    }\n",
              "    40% {\n",
              "      border-color: transparent;\n",
              "      border-right-color: var(--fill-color);\n",
              "      border-top-color: var(--fill-color);\n",
              "    }\n",
              "    60% {\n",
              "      border-color: transparent;\n",
              "      border-right-color: var(--fill-color);\n",
              "    }\n",
              "    80% {\n",
              "      border-color: transparent;\n",
              "      border-right-color: var(--fill-color);\n",
              "      border-bottom-color: var(--fill-color);\n",
              "    }\n",
              "    90% {\n",
              "      border-color: transparent;\n",
              "      border-bottom-color: var(--fill-color);\n",
              "    }\n",
              "  }\n",
              "</style>\n",
              "\n",
              "  <script>\n",
              "    async function quickchart(key) {\n",
              "      const quickchartButtonEl =\n",
              "        document.querySelector('#' + key + ' button');\n",
              "      quickchartButtonEl.disabled = true;  // To prevent multiple clicks.\n",
              "      quickchartButtonEl.classList.add('colab-df-spinner');\n",
              "      try {\n",
              "        const charts = await google.colab.kernel.invokeFunction(\n",
              "            'suggestCharts', [key], {});\n",
              "      } catch (error) {\n",
              "        console.error('Error during call to suggestCharts:', error);\n",
              "      }\n",
              "      quickchartButtonEl.classList.remove('colab-df-spinner');\n",
              "      quickchartButtonEl.classList.add('colab-df-quickchart-complete');\n",
              "    }\n",
              "    (() => {\n",
              "      let quickchartButtonEl =\n",
              "        document.querySelector('#df-54954e40-329d-453d-b98e-a9f1b41bb070 button');\n",
              "      quickchartButtonEl.style.display =\n",
              "        google.colab.kernel.accessAllowed ? 'block' : 'none';\n",
              "    })();\n",
              "  </script>\n",
              "</div>\n",
              "\n",
              "    </div>\n",
              "  </div>\n"
            ],
            "application/vnd.google.colaboratory.intrinsic+json": {
              "type": "dataframe",
              "summary": "{\n  \"name\": \"train\",\n  \"rows\": 8,\n  \"fields\": [\n    {\n      \"column\": \"Patient Age\",\n      \"properties\": {\n        \"dtype\": \"number\",\n        \"std\": 6942.512278352728,\n        \"min\": 0.0,\n        \"max\": 19643.0,\n        \"num_unique_values\": 8,\n        \"samples\": [\n          6.9748510919920585,\n          7.0,\n          19643.0\n        ],\n        \"semantic_type\": \"\",\n        \"description\": \"\"\n      }\n    },\n    {\n      \"column\": \"Blood cell count (mcL)\",\n      \"properties\": {\n        \"dtype\": \"number\",\n        \"std\": 7427.0206006928,\n        \"min\": 0.1998288076909301,\n        \"max\": 21011.0,\n        \"num_unique_values\": 8,\n        \"samples\": [\n          4.8990043730543995,\n          4.899548346,\n          21011.0\n        ],\n        \"semantic_type\": \"\",\n        \"description\": \"\"\n      }\n    },\n    {\n      \"column\": \"Mother's age\",\n      \"properties\": {\n        \"dtype\": \"number\",\n        \"std\": 5395.9292384530745,\n        \"min\": 9.84725580414398,\n        \"max\": 15293.0,\n        \"num_unique_values\": 8,\n        \"samples\": [\n          34.52252664617799,\n          35.0,\n          15293.0\n        ],\n        \"semantic_type\": \"\",\n        \"description\": \"\"\n      }\n    },\n    {\n      \"column\": \"Father's age\",\n      \"properties\": {\n        \"dtype\": \"number\",\n        \"std\": 5403.78753593429,\n        \"min\": 13.027700722577274,\n        \"max\": 15322.0,\n        \"num_unique_values\": 8,\n        \"samples\": [\n          41.94243571335335,\n          42.0,\n          15322.0\n        ],\n        \"semantic_type\": \"\",\n        \"description\": \"\"\n      }\n    },\n    {\n      \"column\": \"Test 1\",\n      \"properties\": {\n        \"dtype\": \"number\",\n        \"std\": 6714.685994147455,\n        \"min\": 0.0,\n        \"max\": 18992.0,\n        \"num_unique_values\": 2,\n        \"samples\": [\n          0.0,\n          18992.0\n        ],\n        \"semantic_type\": \"\",\n        \"description\": \"\"\n      }\n    },\n    {\n      \"column\": \"Test 2\",\n      \"properties\": {\n        \"dtype\": \"number\",\n        \"std\": 6702.665178867284,\n        \"min\": 0.0,\n        \"max\": 18958.0,\n        \"num_unique_values\": 2,\n        \"samples\": [\n          0.0,\n          18958.0\n        ],\n        \"semantic_type\": \"\",\n        \"description\": \"\"\n      }\n    },\n    {\n      \"column\": \"Test 3\",\n      \"properties\": {\n        \"dtype\": \"number\",\n        \"std\": 6706.907819554403,\n        \"min\": 0.0,\n        \"max\": 18970.0,\n        \"num_unique_values\": 2,\n        \"samples\": [\n          0.0,\n          18970.0\n        ],\n        \"semantic_type\": \"\",\n        \"description\": \"\"\n      }\n    },\n    {\n      \"column\": \"Test 4\",\n      \"properties\": {\n        \"dtype\": \"number\",\n        \"std\": 6703.7763557991275,\n        \"min\": 0.0,\n        \"max\": 18962.0,\n        \"num_unique_values\": 3,\n        \"samples\": [\n          18962.0,\n          1.0\n        ],\n        \"semantic_type\": \"\",\n        \"description\": \"\"\n      }\n    },\n    {\n      \"column\": \"Test 5\",\n      \"properties\": {\n        \"dtype\": \"number\",\n        \"std\": 6695.947664446012,\n        \"min\": 0.0,\n        \"max\": 18939.0,\n        \"num_unique_values\": 2,\n        \"samples\": [\n          0.0,\n          18939.0\n        ],\n        \"semantic_type\": \"\",\n        \"description\": \"\"\n      }\n    },\n    {\n      \"column\": \"No. of previous abortion\",\n      \"properties\": {\n        \"dtype\": \"number\",\n        \"std\": 6701.634347467435,\n        \"min\": 0.0,\n        \"max\": 18957.0,\n        \"num_unique_values\": 8,\n        \"samples\": [\n          2.00010550192541,\n          2.0\n        ],\n        \"semantic_type\": \"\",\n        \"description\": \"\"\n      }\n    },\n    {\n      \"column\": \"White Blood cell count (thousand per microliter)\",\n      \"properties\": {\n        \"dtype\": \"number\",\n        \"std\": 6702.738690347452,\n        \"min\": 2.653633288783689,\n        \"max\": 18965.0,\n        \"num_unique_values\": 8,\n        \"samples\": [\n          7.4846804205972575,\n          7.473070711\n        ],\n        \"semantic_type\": \"\",\n        \"description\": \"\"\n      }\n    },\n    {\n      \"column\": \"Symptom 1\",\n      \"properties\": {\n        \"dtype\": \"number\",\n        \"std\": 6701.398283517573,\n        \"min\": 0.0,\n        \"max\": 18955.0,\n        \"num_unique_values\": 5,\n        \"samples\": [\n          0.5920337641783171,\n          1.0\n        ],\n        \"semantic_type\": \"\",\n        \"description\": \"\"\n      }\n    },\n    {\n      \"column\": \"Symptom 2\",\n      \"properties\": {\n        \"dtype\": \"number\",\n        \"std\": 6681.600981079071,\n        \"min\": 0.0,\n        \"max\": 18899.0,\n        \"num_unique_values\": 5,\n        \"samples\": [\n          0.5528863961056141,\n          1.0\n        ],\n        \"semantic_type\": \"\",\n        \"description\": \"\"\n      }\n    },\n    {\n      \"column\": \"Symptom 3\",\n      \"properties\": {\n        \"dtype\": \"number\",\n        \"std\": 6720.139011604629,\n        \"min\": 0.0,\n        \"max\": 19008.0,\n        \"num_unique_values\": 5,\n        \"samples\": [\n          0.537405303030303,\n          1.0\n        ],\n        \"semantic_type\": \"\",\n        \"description\": \"\"\n      }\n    },\n    {\n      \"column\": \"Symptom 4\",\n      \"properties\": {\n        \"dtype\": \"number\",\n        \"std\": 6712.766848583765,\n        \"min\": 0.0,\n        \"max\": 18987.0,\n        \"num_unique_values\": 5,\n        \"samples\": [\n          0.49739295307315534,\n          1.0\n        ],\n        \"semantic_type\": \"\",\n        \"description\": \"\"\n      }\n    },\n    {\n      \"column\": \"Symptom 5\",\n      \"properties\": {\n        \"dtype\": \"number\",\n        \"std\": 6701.8086188487105,\n        \"min\": 0.0,\n        \"max\": 18956.0,\n        \"num_unique_values\": 5,\n        \"samples\": [\n          0.4608039670816628,\n          1.0\n        ],\n        \"semantic_type\": \"\",\n        \"description\": \"\"\n      }\n    }\n  ]\n}"
            }
          },
          "metadata": {},
          "execution_count": 6
        }
      ]
    },
    {
      "cell_type": "code",
      "source": [
        "train.info()"
      ],
      "metadata": {
        "id": "unTbrGB3f5qm",
        "outputId": "8a51b598-dcb8-43ea-a390-b43ad490fdcf",
        "colab": {
          "base_uri": "https://localhost:8080/"
        }
      },
      "id": "unTbrGB3f5qm",
      "execution_count": 7,
      "outputs": [
        {
          "output_type": "stream",
          "name": "stdout",
          "text": [
            "<class 'pandas.core.frame.DataFrame'>\n",
            "RangeIndex: 22083 entries, 0 to 22082\n",
            "Data columns (total 45 columns):\n",
            " #   Column                                            Non-Null Count  Dtype  \n",
            "---  ------                                            --------------  -----  \n",
            " 0   Patient Id                                        21011 non-null  object \n",
            " 1   Patient Age                                       19643 non-null  float64\n",
            " 2   Genes in mother's side                            21011 non-null  object \n",
            " 3   Inherited from father                             20724 non-null  object \n",
            " 4   Maternal gene                                     18317 non-null  object \n",
            " 5   Paternal gene                                     21011 non-null  object \n",
            " 6   Blood cell count (mcL)                            21011 non-null  float64\n",
            " 7   Patient First Name                                21011 non-null  object \n",
            " 8   Family Name                                       11771 non-null  object \n",
            " 9   Father's name                                     21011 non-null  object \n",
            " 10  Mother's age                                      15293 non-null  float64\n",
            " 11  Father's age                                      15322 non-null  float64\n",
            " 12  Institute Name                                    16151 non-null  object \n",
            " 13  Location of Institute                             21011 non-null  object \n",
            " 14  Status                                            21011 non-null  object \n",
            " 15  Respiratory Rate (breaths/min)                    18952 non-null  object \n",
            " 16  Heart Rate (rates/min                             18986 non-null  object \n",
            " 17  Test 1                                            18992 non-null  float64\n",
            " 18  Test 2                                            18958 non-null  float64\n",
            " 19  Test 3                                            18970 non-null  float64\n",
            " 20  Test 4                                            18962 non-null  float64\n",
            " 21  Test 5                                            18939 non-null  float64\n",
            " 22  Parental consent                                  18991 non-null  object \n",
            " 23  Follow-up                                         18941 non-null  object \n",
            " 24  Gender                                            18948 non-null  object \n",
            " 25  Birth asphyxia                                    18953 non-null  object \n",
            " 26  Autopsy shows birth defect (if applicable)        16847 non-null  object \n",
            " 27  Place of birth                                    18993 non-null  object \n",
            " 28  Folic acid details (peri-conceptional)            18998 non-null  object \n",
            " 29  H/O serious maternal illness                      18959 non-null  object \n",
            " 30  H/O radiation exposure (x-ray)                    18964 non-null  object \n",
            " 31  H/O substance abuse                               18921 non-null  object \n",
            " 32  Assisted conception IVF/ART                       19007 non-null  object \n",
            " 33  History of anomalies in previous pregnancies      18945 non-null  object \n",
            " 34  No. of previous abortion                          18957 non-null  float64\n",
            " 35  Birth defects                                     18959 non-null  object \n",
            " 36  White Blood cell count (thousand per microliter)  18965 non-null  float64\n",
            " 37  Blood test result                                 18977 non-null  object \n",
            " 38  Symptom 1                                         18955 non-null  float64\n",
            " 39  Symptom 2                                         18899 non-null  float64\n",
            " 40  Symptom 3                                         19008 non-null  float64\n",
            " 41  Symptom 4                                         18987 non-null  float64\n",
            " 42  Symptom 5                                         18956 non-null  float64\n",
            " 43  Genetic Disorder                                  18962 non-null  object \n",
            " 44  Disorder Subclass                                 18943 non-null  object \n",
            "dtypes: float64(16), object(29)\n",
            "memory usage: 7.6+ MB\n"
          ]
        }
      ]
    },
    {
      "cell_type": "code",
      "source": [
        "missingno.matrix(train,figsize=(30,9))"
      ],
      "metadata": {
        "id": "RPsOLvmDgAll",
        "outputId": "e19b7762-49fb-454f-d79f-bfcc9b3cd519",
        "colab": {
          "base_uri": "https://localhost:8080/",
          "height": 669
        }
      },
      "id": "RPsOLvmDgAll",
      "execution_count": 8,
      "outputs": [
        {
          "output_type": "execute_result",
          "data": {
            "text/plain": [
              "<Axes: >"
            ]
          },
          "metadata": {},
          "execution_count": 8
        },
        {
          "output_type": "display_data",
          "data": {
            "text/plain": [
              "<Figure size 3000x900 with 2 Axes>"
            ],
            "image/png": "[encoded data removed]"
          },
          "metadata": {}
        }
      ]
    },
    {
      "cell_type": "code",
      "source": [
        "def missing_values_table(df):\n",
        "    mis_val = df.isnull().sum()\n",
        "    mis_val_percent = 100 * mis_val / len(df)\n",
        "    mis_val_table = pd.concat([mis_val,mis_val_percent], axis= 1)\n",
        "\n",
        "    mis_val_table_ren_columns = mis_val_table.rename(columns = {0: 'Missing Values', 1: '% of Total Values'})\n",
        "\n",
        "    mis_val_table_ren_columns = mis_val_table_ren_columns[mis_val_table_ren_columns.iloc[:,1]!= 0].sort_values(\n",
        "        '% of Total Values', ascending= False).round(1) #Review\n",
        "    print(\"Your selected dataset has \" + str(df.shape[1]) + \" columns and \" + str(len(df)) + \" observations.\\n\"\n",
        "         \"\\n There are \" + str(mis_val_table_ren_columns.shape[0]) + \" columns that have missing values.\")\n",
        "\n",
        "    return mis_val_table_ren_columns\n",
        "\n",
        "missing_values_table(train)"
      ],
      "metadata": {
        "id": "QOwBN3LtgDjB",
        "outputId": "669e2abc-da22-48e2-e4c8-407a4a1dc3c7",
        "colab": {
          "base_uri": "https://localhost:8080/",
          "height": 1000
        }
      },
      "id": "QOwBN3LtgDjB",
      "execution_count": 9,
      "outputs": [
        {
          "output_type": "stream",
          "name": "stdout",
          "text": [
            "Your selected dataset has 45 columns and 22083 observations.\n",
            "\n",
            " There are 45 columns that have missing values.\n"
          ]
        },
        {
          "output_type": "execute_result",
          "data": {
            "text/plain": [
              "                                                  Missing Values  \\\n",
              "Family Name                                                10312   \n",
              "Mother's age                                                6790   \n",
              "Father's age                                                6761   \n",
              "Institute Name                                              5932   \n",
              "Autopsy shows birth defect (if applicable)                  5236   \n",
              "Maternal gene                                               3766   \n",
              "Symptom 2                                                   3184   \n",
              "H/O substance abuse                                         3162   \n",
              "Test 5                                                      3144   \n",
              "Follow-up                                                   3142   \n",
              "Disorder Subclass                                           3140   \n",
              "History of anomalies in previous pregnancies                3138   \n",
              "Gender                                                      3135   \n",
              "Respiratory Rate (breaths/min)                              3131   \n",
              "Birth asphyxia                                              3130   \n",
              "Symptom 1                                                   3128   \n",
              "Symptom 5                                                   3127   \n",
              "No. of previous abortion                                    3126   \n",
              "Test 2                                                      3125   \n",
              "Birth defects                                               3124   \n",
              "H/O serious maternal illness                                3124   \n",
              "Test 4                                                      3121   \n",
              "Genetic Disorder                                            3121   \n",
              "H/O radiation exposure (x-ray)                              3119   \n",
              "White Blood cell count (thousand per microliter)            3118   \n",
              "Test 3                                                      3113   \n",
              "Blood test result                                           3106   \n",
              "Heart Rate (rates/min                                       3097   \n",
              "Symptom 4                                                   3096   \n",
              "Parental consent                                            3092   \n",
              "Test 1                                                      3091   \n",
              "Place of birth                                              3090   \n",
              "Folic acid details (peri-conceptional)                      3085   \n",
              "Assisted conception IVF/ART                                 3076   \n",
              "Symptom 3                                                   3075   \n",
              "Patient Age                                                 2440   \n",
              "Inherited from father                                       1359   \n",
              "Status                                                      1072   \n",
              "Location of Institute                                       1072   \n",
              "Father's name                                               1072   \n",
              "Patient First Name                                          1072   \n",
              "Blood cell count (mcL)                                      1072   \n",
              "Paternal gene                                               1072   \n",
              "Genes in mother's side                                      1072   \n",
              "Patient Id                                                  1072   \n",
              "\n",
              "                                                  % of Total Values  \n",
              "Family Name                                                    46.7  \n",
              "Mother's age                                                   30.7  \n",
              "Father's age                                                   30.6  \n",
              "Institute Name                                                 26.9  \n",
              "Autopsy shows birth defect (if applicable)                     23.7  \n",
              "Maternal gene                                                  17.1  \n",
              "Symptom 2                                                      14.4  \n",
              "H/O substance abuse                                            14.3  \n",
              "Test 5                                                         14.2  \n",
              "Follow-up                                                      14.2  \n",
              "Disorder Subclass                                              14.2  \n",
              "History of anomalies in previous pregnancies                   14.2  \n",
              "Gender                                                         14.2  \n",
              "Respiratory Rate (breaths/min)                                 14.2  \n",
              "Birth asphyxia                                                 14.2  \n",
              "Symptom 1                                                      14.2  \n",
              "Symptom 5                                                      14.2  \n",
              "No. of previous abortion                                       14.2  \n",
              "Test 2                                                         14.2  \n",
              "Birth defects                                                  14.1  \n",
              "H/O serious maternal illness                                   14.1  \n",
              "Test 4                                                         14.1  \n",
              "Genetic Disorder                                               14.1  \n",
              "H/O radiation exposure (x-ray)                                 14.1  \n",
              "White Blood cell count (thousand per microliter)               14.1  \n",
              "Test 3                                                         14.1  \n",
              "Blood test result                                              14.1  \n",
              "Heart Rate (rates/min                                          14.0  \n",
              "Symptom 4                                                      14.0  \n",
              "Parental consent                                               14.0  \n",
              "Test 1                                                         14.0  \n",
              "Place of birth                                                 14.0  \n",
              "Folic acid details (peri-conceptional)                         14.0  \n",
              "Assisted conception IVF/ART                                    13.9  \n",
              "Symptom 3                                                      13.9  \n",
              "Patient Age                                                    11.0  \n",
              "Inherited from father                                           6.2  \n",
              "Status                                                          4.9  \n",
              "Location of Institute                                           4.9  \n",
              "Father's name                                                   4.9  \n",
              "Patient First Name                                              4.9  \n",
              "Blood cell count (mcL)                                          4.9  \n",
              "Paternal gene                                                   4.9  \n",
              "Genes in mother's side                                          4.9  \n",
              "Patient Id                                                      4.9  "
            ],
            "text/html": [
              "\n",
              "  <div id=\"df-14606fe1-88e8-4a25-89c1-4eedfb4ce206\" class=\"colab-df-container\">\n",
              "    <div>\n",
              "<style scoped>\n",
              "    .dataframe tbody tr th:only-of-type {\n",
              "        vertical-align: middle;\n",
              "    }\n",
              "\n",
              "    .dataframe tbody tr th {\n",
              "        vertical-align: top;\n",
              "    }\n",
              "\n",
              "    .dataframe thead th {\n",
              "        text-align: right;\n",
              "    }\n",
              "</style>\n",
              "<table border=\"1\" class=\"dataframe\">\n",
              "  <thead>\n",
              "    <tr style=\"text-align: right;\">\n",
              "      <th></th>\n",
              "      <th>Missing Values</th>\n",
              "      <th>% of Total Values</th>\n",
              "    </tr>\n",
              "  </thead>\n",
              "  <tbody>\n",
              "    <tr>\n",
              "      <th>Family Name</th>\n",
              "      <td>10312</td>\n",
              "      <td>46.7</td>\n",
              "    </tr>\n",
              "    <tr>\n",
              "      <th>Mother's age</th>\n",
              "      <td>6790</td>\n",
              "      <td>30.7</td>\n",
              "    </tr>\n",
              "    <tr>\n",
              "      <th>Father's age</th>\n",
              "      <td>6761</td>\n",
              "      <td>30.6</td>\n",
              "    </tr>\n",
              "    <tr>\n",
              "      <th>Institute Name</th>\n",
              "      <td>5932</td>\n",
              "      <td>26.9</td>\n",
              "    </tr>\n",
              "    <tr>\n",
              "      <th>Autopsy shows birth defect (if applicable)</th>\n",
              "      <td>5236</td>\n",
              "      <td>23.7</td>\n",
              "    </tr>\n",
              "    <tr>\n",
              "      <th>Maternal gene</th>\n",
              "      <td>3766</td>\n",
              "      <td>17.1</td>\n",
              "    </tr>\n",
              "    <tr>\n",
              "      <th>Symptom 2</th>\n",
              "      <td>3184</td>\n",
              "      <td>14.4</td>\n",
              "    </tr>\n",
              "    <tr>\n",
              "      <th>H/O substance abuse</th>\n",
              "      <td>3162</td>\n",
              "      <td>14.3</td>\n",
              "    </tr>\n",
              "    <tr>\n",
              "      <th>Test 5</th>\n",
              "      <td>3144</td>\n",
              "      <td>14.2</td>\n",
              "    </tr>\n",
              "    <tr>\n",
              "      <th>Follow-up</th>\n",
              "      <td>3142</td>\n",
              "      <td>14.2</td>\n",
              "    </tr>\n",
              "    <tr>\n",
              "      <th>Disorder Subclass</th>\n",
              "      <td>3140</td>\n",
              "      <td>14.2</td>\n",
              "    </tr>\n",
              "    <tr>\n",
              "      <th>History of anomalies in previous pregnancies</th>\n",
              "      <td>3138</td>\n",
              "      <td>14.2</td>\n",
              "    </tr>\n",
              "    <tr>\n",
              "      <th>Gender</th>\n",
              "      <td>3135</td>\n",
              "      <td>14.2</td>\n",
              "    </tr>\n",
              "    <tr>\n",
              "      <th>Respiratory Rate (breaths/min)</th>\n",
              "      <td>3131</td>\n",
              "      <td>14.2</td>\n",
              "    </tr>\n",
              "    <tr>\n",
              "      <th>Birth asphyxia</th>\n",
              "      <td>3130</td>\n",
              "      <td>14.2</td>\n",
              "    </tr>\n",
              "    <tr>\n",
              "      <th>Symptom 1</th>\n",
              "      <td>3128</td>\n",
              "      <td>14.2</td>\n",
              "    </tr>\n",
              "    <tr>\n",
              "      <th>Symptom 5</th>\n",
              "      <td>3127</td>\n",
              "      <td>14.2</td>\n",
              "    </tr>\n",
              "    <tr>\n",
              "      <th>No. of previous abortion</th>\n",
              "      <td>3126</td>\n",
              "      <td>14.2</td>\n",
              "    </tr>\n",
              "    <tr>\n",
              "      <th>Test 2</th>\n",
              "      <td>3125</td>\n",
              "      <td>14.2</td>\n",
              "    </tr>\n",
              "    <tr>\n",
              "      <th>Birth defects</th>\n",
              "      <td>3124</td>\n",
              "      <td>14.1</td>\n",
              "    </tr>\n",
              "    <tr>\n",
              "      <th>H/O serious maternal illness</th>\n",
              "      <td>3124</td>\n",
              "      <td>14.1</td>\n",
              "    </tr>\n",
              "    <tr>\n",
              "      <th>Test 4</th>\n",
              "      <td>3121</td>\n",
              "      <td>14.1</td>\n",
              "    </tr>\n",
              "    <tr>\n",
              "      <th>Genetic Disorder</th>\n",
              "      <td>3121</td>\n",
              "      <td>14.1</td>\n",
              "    </tr>\n",
              "    <tr>\n",
              "      <th>H/O radiation exposure (x-ray)</th>\n",
              "      <td>3119</td>\n",
              "      <td>14.1</td>\n",
              "    </tr>\n",
              "    <tr>\n",
              "      <th>White Blood cell count (thousand per microliter)</th>\n",
              "      <td>3118</td>\n",
              "      <td>14.1</td>\n",
              "    </tr>\n",
              "    <tr>\n",
              "      <th>Test 3</th>\n",
              "      <td>3113</td>\n",
              "      <td>14.1</td>\n",
              "    </tr>\n",
              "    <tr>\n",
              "      <th>Blood test result</th>\n",
              "      <td>3106</td>\n",
              "      <td>14.1</td>\n",
              "    </tr>\n",
              "    <tr>\n",
              "      <th>Heart Rate (rates/min</th>\n",
              "      <td>3097</td>\n",
              "      <td>14.0</td>\n",
              "    </tr>\n",
              "    <tr>\n",
              "      <th>Symptom 4</th>\n",
              "      <td>3096</td>\n",
              "      <td>14.0</td>\n",
              "    </tr>\n",
              "    <tr>\n",
              "      <th>Parental consent</th>\n",
              "      <td>3092</td>\n",
              "      <td>14.0</td>\n",
              "    </tr>\n",
              "    <tr>\n",
              "      <th>Test 1</th>\n",
              "      <td>3091</td>\n",
              "      <td>14.0</td>\n",
              "    </tr>\n",
              "    <tr>\n",
              "      <th>Place of birth</th>\n",
              "      <td>3090</td>\n",
              "      <td>14.0</td>\n",
              "    </tr>\n",
              "    <tr>\n",
              "      <th>Folic acid details (peri-conceptional)</th>\n",
              "      <td>3085</td>\n",
              "      <td>14.0</td>\n",
              "    </tr>\n",
              "    <tr>\n",
              "      <th>Assisted conception IVF/ART</th>\n",
              "      <td>3076</td>\n",
              "      <td>13.9</td>\n",
              "    </tr>\n",
              "    <tr>\n",
              "      <th>Symptom 3</th>\n",
              "      <td>3075</td>\n",
              "      <td>13.9</td>\n",
              "    </tr>\n",
              "    <tr>\n",
              "      <th>Patient Age</th>\n",
              "      <td>2440</td>\n",
              "      <td>11.0</td>\n",
              "    </tr>\n",
              "    <tr>\n",
              "      <th>Inherited from father</th>\n",
              "      <td>1359</td>\n",
              "      <td>6.2</td>\n",
              "    </tr>\n",
              "    <tr>\n",
              "      <th>Status</th>\n",
              "      <td>1072</td>\n",
              "      <td>4.9</td>\n",
              "    </tr>\n",
              "    <tr>\n",
              "      <th>Location of Institute</th>\n",
              "      <td>1072</td>\n",
              "      <td>4.9</td>\n",
              "    </tr>\n",
              "    <tr>\n",
              "      <th>Father's name</th>\n",
              "      <td>1072</td>\n",
              "      <td>4.9</td>\n",
              "    </tr>\n",
              "    <tr>\n",
              "      <th>Patient First Name</th>\n",
              "      <td>1072</td>\n",
              "      <td>4.9</td>\n",
              "    </tr>\n",
              "    <tr>\n",
              "      <th>Blood cell count (mcL)</th>\n",
              "      <td>1072</td>\n",
              "      <td>4.9</td>\n",
              "    </tr>\n",
              "    <tr>\n",
              "      <th>Paternal gene</th>\n",
              "      <td>1072</td>\n",
              "      <td>4.9</td>\n",
              "    </tr>\n",
              "    <tr>\n",
              "      <th>Genes in mother's side</th>\n",
              "      <td>1072</td>\n",
              "      <td>4.9</td>\n",
              "    </tr>\n",
              "    <tr>\n",
              "      <th>Patient Id</th>\n",
              "      <td>1072</td>\n",
              "      <td>4.9</td>\n",
              "    </tr>\n",
              "  </tbody>\n",
              "</table>\n",
              "</div>\n",
              "    <div class=\"colab-df-buttons\">\n",
              "\n",
              "  <div class=\"colab-df-container\">\n",
              "    <button class=\"colab-df-convert\" onclick=\"convertToInteractive('df-14606fe1-88e8-4a25-89c1-4eedfb4ce206')\"\n",
              "            title=\"Convert this dataframe to an interactive table.\"\n",
              "            style=\"display:none;\">\n",
              "\n",
              "  <svg xmlns=\"http://www.w3.org/2000/svg\" height=\"24px\" viewBox=\"0 -960 960 960\">\n",
              "    <path d=\"M120-120v-720h720v720H120Zm60-500h600v-160H180v160Zm220 220h160v-160H400v160Zm0 220h160v-160H400v160ZM180-400h160v-160H180v160Zm440 0h160v-160H620v160ZM180-180h160v-160H180v160Zm440 0h160v-160H620v160Z\"/>\n",
              "  </svg>\n",
              "    </button>\n",
              "\n",
              "  <style>\n",
              "    .colab-df-container {\n",
              "      display:flex;\n",
              "      gap: 12px;\n",
              "    }\n",
              "\n",
              "    .colab-df-convert {\n",
              "      background-color: #E8F0FE;\n",
              "      border: none;\n",
              "      border-radius: 50%;\n",
              "      cursor: pointer;\n",
              "      display: none;\n",
              "      fill: #1967D2;\n",
              "      height: 32px;\n",
              "      padding: 0 0 0 0;\n",
              "      width: 32px;\n",
              "    }\n",
              "\n",
              "    .colab-df-convert:hover {\n",
              "      background-color: #E2EBFA;\n",
              "      box-shadow: 0px 1px 2px rgba(60, 64, 67, 0.3), 0px 1px 3px 1px rgba(60, 64, 67, 0.15);\n",
              "      fill: #174EA6;\n",
              "    }\n",
              "\n",
              "    .colab-df-buttons div {\n",
              "      margin-bottom: 4px;\n",
              "    }\n",
              "\n",
              "    [theme=dark] .colab-df-convert {\n",
              "      background-color: #3B4455;\n",
              "      fill: #D2E3FC;\n",
              "    }\n",
              "\n",
              "    [theme=dark] .colab-df-convert:hover {\n",
              "      background-color: #434B5C;\n",
              "      box-shadow: 0px 1px 3px 1px rgba(0, 0, 0, 0.15);\n",
              "      filter: drop-shadow(0px 1px 2px rgba(0, 0, 0, 0.3));\n",
              "      fill: #FFFFFF;\n",
              "    }\n",
              "  </style>\n",
              "\n",
              "    <script>\n",
              "      const buttonEl =\n",
              "        document.querySelector('#df-14606fe1-88e8-4a25-89c1-4eedfb4ce206 button.colab-df-convert');\n",
              "      buttonEl.style.display =\n",
              "        google.colab.kernel.accessAllowed ? 'block' : 'none';\n",
              "\n",
              "      async function convertToInteractive(key) {\n",
              "        const element = document.querySelector('#df-14606fe1-88e8-4a25-89c1-4eedfb4ce206');\n",
              "        const dataTable =\n",
              "          await google.colab.kernel.invokeFunction('convertToInteractive',\n",
              "                                                    [key], {});\n",
              "        if (!dataTable) return;\n",
              "\n",
              "        const docLinkHtml = 'Like what you see? Visit the ' +\n",
              "          '<a target=\"_blank\" href=https://colab.research.google.com/notebooks/data_table.ipynb>data table notebook</a>'\n",
              "          + ' to learn more about interactive tables.';\n",
              "        element.innerHTML = '';\n",
              "        dataTable['output_type'] = 'display_data';\n",
              "        await google.colab.output.renderOutput(dataTable, element);\n",
              "        const docLink = document.createElement('div');\n",
              "        docLink.innerHTML = docLinkHtml;\n",
              "        element.appendChild(docLink);\n",
              "      }\n",
              "    </script>\n",
              "  </div>\n",
              "\n",
              "\n",
              "<div id=\"df-03ae35cb-c7aa-48ba-a6f6-cd2e043f4159\">\n",
              "  <button class=\"colab-df-quickchart\" onclick=\"quickchart('df-03ae35cb-c7aa-48ba-a6f6-cd2e043f4159')\"\n",
              "            title=\"Suggest charts\"\n",
              "            style=\"display:none;\">\n",
              "\n",
              "<svg xmlns=\"http://www.w3.org/2000/svg\" height=\"24px\"viewBox=\"0 0 24 24\"\n",
              "     width=\"24px\">\n",
              "    <g>\n",
              "        <path d=\"M19 3H5c-1.1 0-2 .9-2 2v14c0 1.1.9 2 2 2h14c1.1 0 2-.9 2-2V5c0-1.1-.9-2-2-2zM9 17H7v-7h2v7zm4 0h-2V7h2v10zm4 0h-2v-4h2v4z\"/>\n",
              "    </g>\n",
              "</svg>\n",
              "  </button>\n",
              "\n",
              "<style>\n",
              "  .colab-df-quickchart {\n",
              "      --bg-color: #E8F0FE;\n",
              "      --fill-color: #1967D2;\n",
              "      --hover-bg-color: #E2EBFA;\n",
              "      --hover-fill-color: #174EA6;\n",
              "      --disabled-fill-color: #AAA;\n",
              "      --disabled-bg-color: #DDD;\n",
              "  }\n",
              "\n",
              "  [theme=dark] .colab-df-quickchart {\n",
              "      --bg-color: #3B4455;\n",
              "      --fill-color: #D2E3FC;\n",
              "      --hover-bg-color: #434B5C;\n",
              "      --hover-fill-color: #FFFFFF;\n",
              "      --disabled-bg-color: #3B4455;\n",
              "      --disabled-fill-color: #666;\n",
              "  }\n",
              "\n",
              "  .colab-df-quickchart {\n",
              "    background-color: var(--bg-color);\n",
              "    border: none;\n",
              "    border-radius: 50%;\n",
              "    cursor: pointer;\n",
              "    display: none;\n",
              "    fill: var(--fill-color);\n",
              "    height: 32px;\n",
              "    padding: 0;\n",
              "    width: 32px;\n",
              "  }\n",
              "\n",
              "  .colab-df-quickchart:hover {\n",
              "    background-color: var(--hover-bg-color);\n",
              "    box-shadow: 0 1px 2px rgba(60, 64, 67, 0.3), 0 1px 3px 1px rgba(60, 64, 67, 0.15);\n",
              "    fill: var(--button-hover-fill-color);\n",
              "  }\n",
              "\n",
              "  .colab-df-quickchart-complete:disabled,\n",
              "  .colab-df-quickchart-complete:disabled:hover {\n",
              "    background-color: var(--disabled-bg-color);\n",
              "    fill: var(--disabled-fill-color);\n",
              "    box-shadow: none;\n",
              "  }\n",
              "\n",
              "  .colab-df-spinner {\n",
              "    border: 2px solid var(--fill-color);\n",
              "    border-color: transparent;\n",
              "    border-bottom-color: var(--fill-color);\n",
              "    animation:\n",
              "      spin 1s steps(1) infinite;\n",
              "  }\n",
              "\n",
              "  @keyframes spin {\n",
              "    0% {\n",
              "      border-color: transparent;\n",
              "      border-bottom-color: var(--fill-color);\n",
              "      border-left-color: var(--fill-color);\n",
              "    }\n",
              "    20% {\n",
              "      border-color: transparent;\n",
              "      border-left-color: var(--fill-color);\n",
              "      border-top-color: var(--fill-color);\n",
              "    }\n",
              "    30% {\n",
              "      border-color: transparent;\n",
              "      border-left-color: var(--fill-color);\n",
              "      border-top-color: var(--fill-color);\n",
              "      border-right-color: var(--fill-color);\n",
              "    }\n",
              "    40% {\n",
              "      border-color: transparent;\n",
              "      border-right-color: var(--fill-color);\n",
              "      border-top-color: var(--fill-color);\n",
              "    }\n",
              "    60% {\n",
              "      border-color: transparent;\n",
              "      border-right-color: var(--fill-color);\n",
              "    }\n",
              "    80% {\n",
              "      border-color: transparent;\n",
              "      border-right-color: var(--fill-color);\n",
              "      border-bottom-color: var(--fill-color);\n",
              "    }\n",
              "    90% {\n",
              "      border-color: transparent;\n",
              "      border-bottom-color: var(--fill-color);\n",
              "    }\n",
              "  }\n",
              "</style>\n",
              "\n",
              "  <script>\n",
              "    async function quickchart(key) {\n",
              "      const quickchartButtonEl =\n",
              "        document.querySelector('#' + key + ' button');\n",
              "      quickchartButtonEl.disabled = true;  // To prevent multiple clicks.\n",
              "      quickchartButtonEl.classList.add('colab-df-spinner');\n",
              "      try {\n",
              "        const charts = await google.colab.kernel.invokeFunction(\n",
              "            'suggestCharts', [key], {});\n",
              "      } catch (error) {\n",
              "        console.error('Error during call to suggestCharts:', error);\n",
              "      }\n",
              "      quickchartButtonEl.classList.remove('colab-df-spinner');\n",
              "      quickchartButtonEl.classList.add('colab-df-quickchart-complete');\n",
              "    }\n",
              "    (() => {\n",
              "      let quickchartButtonEl =\n",
              "        document.querySelector('#df-03ae35cb-c7aa-48ba-a6f6-cd2e043f4159 button');\n",
              "      quickchartButtonEl.style.display =\n",
              "        google.colab.kernel.accessAllowed ? 'block' : 'none';\n",
              "    })();\n",
              "  </script>\n",
              "</div>\n",
              "\n",
              "    </div>\n",
              "  </div>\n"
            ],
            "application/vnd.google.colaboratory.intrinsic+json": {
              "type": "dataframe",
              "summary": "{\n  \"name\": \"missing_values_table(train)\",\n  \"rows\": 45,\n  \"fields\": [\n    {\n      \"column\": \"Missing Values\",\n      \"properties\": {\n        \"dtype\": \"number\",\n        \"std\": 1707,\n        \"min\": 1072,\n        \"max\": 10312,\n        \"num_unique_values\": 36,\n        \"samples\": [\n          1072,\n          3131,\n          3096\n        ],\n        \"semantic_type\": \"\",\n        \"description\": \"\"\n      }\n    },\n    {\n      \"column\": \"% of Total Values\",\n      \"properties\": {\n        \"dtype\": \"number\",\n        \"std\": 7.722413921027335,\n        \"min\": 4.9,\n        \"max\": 46.7,\n        \"num_unique_values\": 15,\n        \"samples\": [\n          14.1,\n          13.9,\n          46.7\n        ],\n        \"semantic_type\": \"\",\n        \"description\": \"\"\n      }\n    }\n  ]\n}"
            }
          },
          "metadata": {},
          "execution_count": 9
        }
      ]
    },
    {
      "cell_type": "code",
      "source": [
        "train.dtypes"
      ],
      "metadata": {
        "id": "w0MC9UXlgG90",
        "outputId": "a168d7e0-b379-4cc6-8901-cdb19d24705e",
        "colab": {
          "base_uri": "https://localhost:8080/",
          "height": 1000
        }
      },
      "id": "w0MC9UXlgG90",
      "execution_count": 10,
      "outputs": [
        {
          "output_type": "execute_result",
          "data": {
            "text/plain": [
              "Patient Id                                           object\n",
              "Patient Age                                         float64\n",
              "Genes in mother's side                               object\n",
              "Inherited from father                                object\n",
              "Maternal gene                                        object\n",
              "Paternal gene                                        object\n",
              "Blood cell count (mcL)                              float64\n",
              "Patient First Name                                   object\n",
              "Family Name                                          object\n",
              "Father's name                                        object\n",
              "Mother's age                                        float64\n",
              "Father's age                                        float64\n",
              "Institute Name                                       object\n",
              "Location of Institute                                object\n",
              "Status                                               object\n",
              "Respiratory Rate (breaths/min)                       object\n",
              "Heart Rate (rates/min                                object\n",
              "Test 1                                              float64\n",
              "Test 2                                              float64\n",
              "Test 3                                              float64\n",
              "Test 4                                              float64\n",
              "Test 5                                              float64\n",
              "Parental consent                                     object\n",
              "Follow-up                                            object\n",
              "Gender                                               object\n",
              "Birth asphyxia                                       object\n",
              "Autopsy shows birth defect (if applicable)           object\n",
              "Place of birth                                       object\n",
              "Folic acid details (peri-conceptional)               object\n",
              "H/O serious maternal illness                         object\n",
              "H/O radiation exposure (x-ray)                       object\n",
              "H/O substance abuse                                  object\n",
              "Assisted conception IVF/ART                          object\n",
              "History of anomalies in previous pregnancies         object\n",
              "No. of previous abortion                            float64\n",
              "Birth defects                                        object\n",
              "White Blood cell count (thousand per microliter)    float64\n",
              "Blood test result                                    object\n",
              "Symptom 1                                           float64\n",
              "Symptom 2                                           float64\n",
              "Symptom 3                                           float64\n",
              "Symptom 4                                           float64\n",
              "Symptom 5                                           float64\n",
              "Genetic Disorder                                     object\n",
              "Disorder Subclass                                    object\n",
              "dtype: object"
            ],
            "text/html": [
              "<div>\n",
              "<style scoped>\n",
              "    .dataframe tbody tr th:only-of-type {\n",
              "        vertical-align: middle;\n",
              "    }\n",
              "\n",
              "    .dataframe tbody tr th {\n",
              "        vertical-align: top;\n",
              "    }\n",
              "\n",
              "    .dataframe thead th {\n",
              "        text-align: right;\n",
              "    }\n",
              "</style>\n",
              "<table border=\"1\" class=\"dataframe\">\n",
              "  <thead>\n",
              "    <tr style=\"text-align: right;\">\n",
              "      <th></th>\n",
              "      <th>0</th>\n",
              "    </tr>\n",
              "  </thead>\n",
              "  <tbody>\n",
              "    <tr>\n",
              "      <th>Patient Id</th>\n",
              "      <td>object</td>\n",
              "    </tr>\n",
              "    <tr>\n",
              "      <th>Patient Age</th>\n",
              "      <td>float64</td>\n",
              "    </tr>\n",
              "    <tr>\n",
              "      <th>Genes in mother's side</th>\n",
              "      <td>object</td>\n",
              "    </tr>\n",
              "    <tr>\n",
              "      <th>Inherited from father</th>\n",
              "      <td>object</td>\n",
              "    </tr>\n",
              "    <tr>\n",
              "      <th>Maternal gene</th>\n",
              "      <td>object</td>\n",
              "    </tr>\n",
              "    <tr>\n",
              "      <th>Paternal gene</th>\n",
              "      <td>object</td>\n",
              "    </tr>\n",
              "    <tr>\n",
              "      <th>Blood cell count (mcL)</th>\n",
              "      <td>float64</td>\n",
              "    </tr>\n",
              "    <tr>\n",
              "      <th>Patient First Name</th>\n",
              "      <td>object</td>\n",
              "    </tr>\n",
              "    <tr>\n",
              "      <th>Family Name</th>\n",
              "      <td>object</td>\n",
              "    </tr>\n",
              "    <tr>\n",
              "      <th>Father's name</th>\n",
              "      <td>object</td>\n",
              "    </tr>\n",
              "    <tr>\n",
              "      <th>Mother's age</th>\n",
              "      <td>float64</td>\n",
              "    </tr>\n",
              "    <tr>\n",
              "      <th>Father's age</th>\n",
              "      <td>float64</td>\n",
              "    </tr>\n",
              "    <tr>\n",
              "      <th>Institute Name</th>\n",
              "      <td>object</td>\n",
              "    </tr>\n",
              "    <tr>\n",
              "      <th>Location of Institute</th>\n",
              "      <td>object</td>\n",
              "    </tr>\n",
              "    <tr>\n",
              "      <th>Status</th>\n",
              "      <td>object</td>\n",
              "    </tr>\n",
              "    <tr>\n",
              "      <th>Respiratory Rate (breaths/min)</th>\n",
              "      <td>object</td>\n",
              "    </tr>\n",
              "    <tr>\n",
              "      <th>Heart Rate (rates/min</th>\n",
              "      <td>object</td>\n",
              "    </tr>\n",
              "    <tr>\n",
              "      <th>Test 1</th>\n",
              "      <td>float64</td>\n",
              "    </tr>\n",
              "    <tr>\n",
              "      <th>Test 2</th>\n",
              "      <td>float64</td>\n",
              "    </tr>\n",
              "    <tr>\n",
              "      <th>Test 3</th>\n",
              "      <td>float64</td>\n",
              "    </tr>\n",
              "    <tr>\n",
              "      <th>Test 4</th>\n",
              "      <td>float64</td>\n",
              "    </tr>\n",
              "    <tr>\n",
              "      <th>Test 5</th>\n",
              "      <td>float64</td>\n",
              "    </tr>\n",
              "    <tr>\n",
              "      <th>Parental consent</th>\n",
              "      <td>object</td>\n",
              "    </tr>\n",
              "    <tr>\n",
              "      <th>Follow-up</th>\n",
              "      <td>object</td>\n",
              "    </tr>\n",
              "    <tr>\n",
              "      <th>Gender</th>\n",
              "      <td>object</td>\n",
              "    </tr>\n",
              "    <tr>\n",
              "      <th>Birth asphyxia</th>\n",
              "      <td>object</td>\n",
              "    </tr>\n",
              "    <tr>\n",
              "      <th>Autopsy shows birth defect (if applicable)</th>\n",
              "      <td>object</td>\n",
              "    </tr>\n",
              "    <tr>\n",
              "      <th>Place of birth</th>\n",
              "      <td>object</td>\n",
              "    </tr>\n",
              "    <tr>\n",
              "      <th>Folic acid details (peri-conceptional)</th>\n",
              "      <td>object</td>\n",
              "    </tr>\n",
              "    <tr>\n",
              "      <th>H/O serious maternal illness</th>\n",
              "      <td>object</td>\n",
              "    </tr>\n",
              "    <tr>\n",
              "      <th>H/O radiation exposure (x-ray)</th>\n",
              "      <td>object</td>\n",
              "    </tr>\n",
              "    <tr>\n",
              "      <th>H/O substance abuse</th>\n",
              "      <td>object</td>\n",
              "    </tr>\n",
              "    <tr>\n",
              "      <th>Assisted conception IVF/ART</th>\n",
              "      <td>object</td>\n",
              "    </tr>\n",
              "    <tr>\n",
              "      <th>History of anomalies in previous pregnancies</th>\n",
              "      <td>object</td>\n",
              "    </tr>\n",
              "    <tr>\n",
              "      <th>No. of previous abortion</th>\n",
              "      <td>float64</td>\n",
              "    </tr>\n",
              "    <tr>\n",
              "      <th>Birth defects</th>\n",
              "      <td>object</td>\n",
              "    </tr>\n",
              "    <tr>\n",
              "      <th>White Blood cell count (thousand per microliter)</th>\n",
              "      <td>float64</td>\n",
              "    </tr>\n",
              "    <tr>\n",
              "      <th>Blood test result</th>\n",
              "      <td>object</td>\n",
              "    </tr>\n",
              "    <tr>\n",
              "      <th>Symptom 1</th>\n",
              "      <td>float64</td>\n",
              "    </tr>\n",
              "    <tr>\n",
              "      <th>Symptom 2</th>\n",
              "      <td>float64</td>\n",
              "    </tr>\n",
              "    <tr>\n",
              "      <th>Symptom 3</th>\n",
              "      <td>float64</td>\n",
              "    </tr>\n",
              "    <tr>\n",
              "      <th>Symptom 4</th>\n",
              "      <td>float64</td>\n",
              "    </tr>\n",
              "    <tr>\n",
              "      <th>Symptom 5</th>\n",
              "      <td>float64</td>\n",
              "    </tr>\n",
              "    <tr>\n",
              "      <th>Genetic Disorder</th>\n",
              "      <td>object</td>\n",
              "    </tr>\n",
              "    <tr>\n",
              "      <th>Disorder Subclass</th>\n",
              "      <td>object</td>\n",
              "    </tr>\n",
              "  </tbody>\n",
              "</table>\n",
              "</div><br><label><b>dtype:</b> object</label>"
            ]
          },
          "metadata": {},
          "execution_count": 10
        }
      ]
    },
    {
      "cell_type": "code",
      "source": [
        "train.head(3)"
      ],
      "metadata": {
        "id": "Zbg0wVR-gLnM",
        "outputId": "90aecf52-dbc1-4229-a354-51336c0d8ca9",
        "colab": {
          "base_uri": "https://localhost:8080/",
          "height": 389
        }
      },
      "id": "Zbg0wVR-gLnM",
      "execution_count": 11,
      "outputs": [
        {
          "output_type": "execute_result",
          "data": {
            "text/plain": [
              "  Patient Id  Patient Age Genes in mother's side Inherited from father  \\\n",
              "0  PID0x6418          2.0                    Yes                    No   \n",
              "1  PID0x25d5          4.0                    Yes                   Yes   \n",
              "2  PID0x4a82          6.0                    Yes                    No   \n",
              "\n",
              "  Maternal gene Paternal gene  Blood cell count (mcL) Patient First Name  \\\n",
              "0           Yes            No                4.760603            Richard   \n",
              "1            No            No                4.910669               Mike   \n",
              "2            No            No                4.893297           Kimberly   \n",
              "\n",
              "  Family Name Father's name  Mother's age  Father's age  \\\n",
              "0         NaN         Larre           NaN           NaN   \n",
              "1         NaN        Brycen           NaN          23.0   \n",
              "2         NaN        Nashon          41.0          22.0   \n",
              "\n",
              "                               Institute Name  \\\n",
              "0  Boston Specialty & Rehabilitation Hospital   \n",
              "1           St. Margaret's Hospital For Women   \n",
              "2                                         NaN   \n",
              "\n",
              "                               Location of Institute    Status  \\\n",
              "0  55 FRUIT ST\\nCENTRAL, MA 02114\\n(42.3624748574...     Alive   \n",
              "1  1515 COMMONWEALTH AV\\nALLSTON/BRIGHTON, MA 021...  Deceased   \n",
              "2                                                  -     Alive   \n",
              "\n",
              "  Respiratory Rate (breaths/min) Heart Rate (rates/min  Test 1  Test 2  \\\n",
              "0                 Normal (30-60)                Normal     0.0     NaN   \n",
              "1                      Tachypnea                Normal     NaN     0.0   \n",
              "2                 Normal (30-60)           Tachycardia     0.0     0.0   \n",
              "\n",
              "   Test 3  Test 4  Test 5 Parental consent Follow-up Gender Birth asphyxia  \\\n",
              "0     NaN     1.0     0.0              Yes      High    NaN            NaN   \n",
              "1     0.0     1.0     0.0              Yes      High    NaN             No   \n",
              "2     0.0     1.0     0.0              Yes       Low    NaN      No record   \n",
              "\n",
              "  Autopsy shows birth defect (if applicable) Place of birth  \\\n",
              "0                             Not applicable      Institute   \n",
              "1                                        NaN            NaN   \n",
              "2                             Not applicable            NaN   \n",
              "\n",
              "  Folic acid details (peri-conceptional) H/O serious maternal illness  \\\n",
              "0                                     No                          NaN   \n",
              "1                                    Yes                          Yes   \n",
              "2                                    Yes                           No   \n",
              "\n",
              "  H/O radiation exposure (x-ray) H/O substance abuse  \\\n",
              "0                             No                  No   \n",
              "1                 Not applicable      Not applicable   \n",
              "2                            Yes                 NaN   \n",
              "\n",
              "  Assisted conception IVF/ART History of anomalies in previous pregnancies  \\\n",
              "0                          No                                          Yes   \n",
              "1                          No                                          Yes   \n",
              "2                         Yes                                          Yes   \n",
              "\n",
              "   No. of previous abortion Birth defects  \\\n",
              "0                       NaN           NaN   \n",
              "1                       NaN      Multiple   \n",
              "2                       4.0      Singular   \n",
              "\n",
              "   White Blood cell count (thousand per microliter) Blood test result  \\\n",
              "0                                          9.857562               NaN   \n",
              "1                                          5.522560            normal   \n",
              "2                                               NaN            normal   \n",
              "\n",
              "   Symptom 1  Symptom 2  Symptom 3  Symptom 4  Symptom 5  \\\n",
              "0        1.0        1.0        1.0        1.0        1.0   \n",
              "1        1.0        NaN        1.0        1.0        0.0   \n",
              "2        0.0        1.0        1.0        1.0        1.0   \n",
              "\n",
              "                               Genetic Disorder  \\\n",
              "0   Mitochondrial genetic inheritance disorders   \n",
              "1                                           NaN   \n",
              "2  Multifactorial genetic inheritance disorders   \n",
              "\n",
              "                     Disorder Subclass  \n",
              "0  Leber's hereditary optic neuropathy  \n",
              "1                      Cystic fibrosis  \n",
              "2                             Diabetes  "
            ],
            "text/html": [
              "\n",
              "  <div id=\"df-7a17b28e-6c00-488c-958c-6ee130d9f301\" class=\"colab-df-container\">\n",
              "    <div>\n",
              "<style scoped>\n",
              "    .dataframe tbody tr th:only-of-type {\n",
              "        vertical-align: middle;\n",
              "    }\n",
              "\n",
              "    .dataframe tbody tr th {\n",
              "        vertical-align: top;\n",
              "    }\n",
              "\n",
              "    .dataframe thead th {\n",
              "        text-align: right;\n",
              "    }\n",
              "</style>\n",
              "<table border=\"1\" class=\"dataframe\">\n",
              "  <thead>\n",
              "    <tr style=\"text-align: right;\">\n",
              "      <th></th>\n",
              "      <th>Patient Id</th>\n",
              "      <th>Patient Age</th>\n",
              "      <th>Genes in mother's side</th>\n",
              "      <th>Inherited from father</th>\n",
              "      <th>Maternal gene</th>\n",
              "      <th>Paternal gene</th>\n",
              "      <th>Blood cell count (mcL)</th>\n",
              "      <th>Patient First Name</th>\n",
              "      <th>Family Name</th>\n",
              "      <th>Father's name</th>\n",
              "      <th>Mother's age</th>\n",
              "      <th>Father's age</th>\n",
              "      <th>Institute Name</th>\n",
              "      <th>Location of Institute</th>\n",
              "      <th>Status</th>\n",
              "      <th>Respiratory Rate (breaths/min)</th>\n",
              "      <th>Heart Rate (rates/min</th>\n",
              "      <th>Test 1</th>\n",
              "      <th>Test 2</th>\n",
              "      <th>Test 3</th>\n",
              "      <th>Test 4</th>\n",
              "      <th>Test 5</th>\n",
              "      <th>Parental consent</th>\n",
              "      <th>Follow-up</th>\n",
              "      <th>Gender</th>\n",
              "      <th>Birth asphyxia</th>\n",
              "      <th>Autopsy shows birth defect (if applicable)</th>\n",
              "      <th>Place of birth</th>\n",
              "      <th>Folic acid details (peri-conceptional)</th>\n",
              "      <th>H/O serious maternal illness</th>\n",
              "      <th>H/O radiation exposure (x-ray)</th>\n",
              "      <th>H/O substance abuse</th>\n",
              "      <th>Assisted conception IVF/ART</th>\n",
              "      <th>History of anomalies in previous pregnancies</th>\n",
              "      <th>No. of previous abortion</th>\n",
              "      <th>Birth defects</th>\n",
              "      <th>White Blood cell count (thousand per microliter)</th>\n",
              "      <th>Blood test result</th>\n",
              "      <th>Symptom 1</th>\n",
              "      <th>Symptom 2</th>\n",
              "      <th>Symptom 3</th>\n",
              "      <th>Symptom 4</th>\n",
              "      <th>Symptom 5</th>\n",
              "      <th>Genetic Disorder</th>\n",
              "      <th>Disorder Subclass</th>\n",
              "    </tr>\n",
              "  </thead>\n",
              "  <tbody>\n",
              "    <tr>\n",
              "      <th>0</th>\n",
              "      <td>PID0x6418</td>\n",
              "      <td>2.0</td>\n",
              "      <td>Yes</td>\n",
              "      <td>No</td>\n",
              "      <td>Yes</td>\n",
              "      <td>No</td>\n",
              "      <td>4.760603</td>\n",
              "      <td>Richard</td>\n",
              "      <td>NaN</td>\n",
              "      <td>Larre</td>\n",
              "      <td>NaN</td>\n",
              "      <td>NaN</td>\n",
              "      <td>Boston Specialty &amp; Rehabilitation Hospital</td>\n",
              "      <td>55 FRUIT ST\\nCENTRAL, MA 02114\\n(42.3624748574...</td>\n",
              "      <td>Alive</td>\n",
              "      <td>Normal (30-60)</td>\n",
              "      <td>Normal</td>\n",
              "      <td>0.0</td>\n",
              "      <td>NaN</td>\n",
              "      <td>NaN</td>\n",
              "      <td>1.0</td>\n",
              "      <td>0.0</td>\n",
              "      <td>Yes</td>\n",
              "      <td>High</td>\n",
              "      <td>NaN</td>\n",
              "      <td>NaN</td>\n",
              "      <td>Not applicable</td>\n",
              "      <td>Institute</td>\n",
              "      <td>No</td>\n",
              "      <td>NaN</td>\n",
              "      <td>No</td>\n",
              "      <td>No</td>\n",
              "      <td>No</td>\n",
              "      <td>Yes</td>\n",
              "      <td>NaN</td>\n",
              "      <td>NaN</td>\n",
              "      <td>9.857562</td>\n",
              "      <td>NaN</td>\n",
              "      <td>1.0</td>\n",
              "      <td>1.0</td>\n",
              "      <td>1.0</td>\n",
              "      <td>1.0</td>\n",
              "      <td>1.0</td>\n",
              "      <td>Mitochondrial genetic inheritance disorders</td>\n",
              "      <td>Leber's hereditary optic neuropathy</td>\n",
              "    </tr>\n",
              "    <tr>\n",
              "      <th>1</th>\n",
              "      <td>PID0x25d5</td>\n",
              "      <td>4.0</td>\n",
              "      <td>Yes</td>\n",
              "      <td>Yes</td>\n",
              "      <td>No</td>\n",
              "      <td>No</td>\n",
              "      <td>4.910669</td>\n",
              "      <td>Mike</td>\n",
              "      <td>NaN</td>\n",
              "      <td>Brycen</td>\n",
              "      <td>NaN</td>\n",
              "      <td>23.0</td>\n",
              "      <td>St. Margaret's Hospital For Women</td>\n",
              "      <td>1515 COMMONWEALTH AV\\nALLSTON/BRIGHTON, MA 021...</td>\n",
              "      <td>Deceased</td>\n",
              "      <td>Tachypnea</td>\n",
              "      <td>Normal</td>\n",
              "      <td>NaN</td>\n",
              "      <td>0.0</td>\n",
              "      <td>0.0</td>\n",
              "      <td>1.0</td>\n",
              "      <td>0.0</td>\n",
              "      <td>Yes</td>\n",
              "      <td>High</td>\n",
              "      <td>NaN</td>\n",
              "      <td>No</td>\n",
              "      <td>NaN</td>\n",
              "      <td>NaN</td>\n",
              "      <td>Yes</td>\n",
              "      <td>Yes</td>\n",
              "      <td>Not applicable</td>\n",
              "      <td>Not applicable</td>\n",
              "      <td>No</td>\n",
              "      <td>Yes</td>\n",
              "      <td>NaN</td>\n",
              "      <td>Multiple</td>\n",
              "      <td>5.522560</td>\n",
              "      <td>normal</td>\n",
              "      <td>1.0</td>\n",
              "      <td>NaN</td>\n",
              "      <td>1.0</td>\n",
              "      <td>1.0</td>\n",
              "      <td>0.0</td>\n",
              "      <td>NaN</td>\n",
              "      <td>Cystic fibrosis</td>\n",
              "    </tr>\n",
              "    <tr>\n",
              "      <th>2</th>\n",
              "      <td>PID0x4a82</td>\n",
              "      <td>6.0</td>\n",
              "      <td>Yes</td>\n",
              "      <td>No</td>\n",
              "      <td>No</td>\n",
              "      <td>No</td>\n",
              "      <td>4.893297</td>\n",
              "      <td>Kimberly</td>\n",
              "      <td>NaN</td>\n",
              "      <td>Nashon</td>\n",
              "      <td>41.0</td>\n",
              "      <td>22.0</td>\n",
              "      <td>NaN</td>\n",
              "      <td>-</td>\n",
              "      <td>Alive</td>\n",
              "      <td>Normal (30-60)</td>\n",
              "      <td>Tachycardia</td>\n",
              "      <td>0.0</td>\n",
              "      <td>0.0</td>\n",
              "      <td>0.0</td>\n",
              "      <td>1.0</td>\n",
              "      <td>0.0</td>\n",
              "      <td>Yes</td>\n",
              "      <td>Low</td>\n",
              "      <td>NaN</td>\n",
              "      <td>No record</td>\n",
              "      <td>Not applicable</td>\n",
              "      <td>NaN</td>\n",
              "      <td>Yes</td>\n",
              "      <td>No</td>\n",
              "      <td>Yes</td>\n",
              "      <td>NaN</td>\n",
              "      <td>Yes</td>\n",
              "      <td>Yes</td>\n",
              "      <td>4.0</td>\n",
              "      <td>Singular</td>\n",
              "      <td>NaN</td>\n",
              "      <td>normal</td>\n",
              "      <td>0.0</td>\n",
              "      <td>1.0</td>\n",
              "      <td>1.0</td>\n",
              "      <td>1.0</td>\n",
              "      <td>1.0</td>\n",
              "      <td>Multifactorial genetic inheritance disorders</td>\n",
              "      <td>Diabetes</td>\n",
              "    </tr>\n",
              "  </tbody>\n",
              "</table>\n",
              "</div>\n",
              "    <div class=\"colab-df-buttons\">\n",
              "\n",
              "  <div class=\"colab-df-container\">\n",
              "    <button class=\"colab-df-convert\" onclick=\"convertToInteractive('df-7a17b28e-6c00-488c-958c-6ee130d9f301')\"\n",
              "            title=\"Convert this dataframe to an interactive table.\"\n",
              "            style=\"display:none;\">\n",
              "\n",
              "  <svg xmlns=\"http://www.w3.org/2000/svg\" height=\"24px\" viewBox=\"0 -960 960 960\">\n",
              "    <path d=\"M120-120v-720h720v720H120Zm60-500h600v-160H180v160Zm220 220h160v-160H400v160Zm0 220h160v-160H400v160ZM180-400h160v-160H180v160Zm440 0h160v-160H620v160ZM180-180h160v-160H180v160Zm440 0h160v-160H620v160Z\"/>\n",
              "  </svg>\n",
              "    </button>\n",
              "\n",
              "  <style>\n",
              "    .colab-df-container {\n",
              "      display:flex;\n",
              "      gap: 12px;\n",
              "    }\n",
              "\n",
              "    .colab-df-convert {\n",
              "      background-color: #E8F0FE;\n",
              "      border: none;\n",
              "      border-radius: 50%;\n",
              "      cursor: pointer;\n",
              "      display: none;\n",
              "      fill: #1967D2;\n",
              "      height: 32px;\n",
              "      padding: 0 0 0 0;\n",
              "      width: 32px;\n",
              "    }\n",
              "\n",
              "    .colab-df-convert:hover {\n",
              "      background-color: #E2EBFA;\n",
              "      box-shadow: 0px 1px 2px rgba(60, 64, 67, 0.3), 0px 1px 3px 1px rgba(60, 64, 67, 0.15);\n",
              "      fill: #174EA6;\n",
              "    }\n",
              "\n",
              "    .colab-df-buttons div {\n",
              "      margin-bottom: 4px;\n",
              "    }\n",
              "\n",
              "    [theme=dark] .colab-df-convert {\n",
              "      background-color: #3B4455;\n",
              "      fill: #D2E3FC;\n",
              "    }\n",
              "\n",
              "    [theme=dark] .colab-df-convert:hover {\n",
              "      background-color: #434B5C;\n",
              "      box-shadow: 0px 1px 3px 1px rgba(0, 0, 0, 0.15);\n",
              "      filter: drop-shadow(0px 1px 2px rgba(0, 0, 0, 0.3));\n",
              "      fill: #FFFFFF;\n",
              "    }\n",
              "  </style>\n",
              "\n",
              "    <script>\n",
              "      const buttonEl =\n",
              "        document.querySelector('#df-7a17b28e-6c00-488c-958c-6ee130d9f301 button.colab-df-convert');\n",
              "      buttonEl.style.display =\n",
              "        google.colab.kernel.accessAllowed ? 'block' : 'none';\n",
              "\n",
              "      async function convertToInteractive(key) {\n",
              "        const element = document.querySelector('#df-7a17b28e-6c00-488c-958c-6ee130d9f301');\n",
              "        const dataTable =\n",
              "          await google.colab.kernel.invokeFunction('convertToInteractive',\n",
              "                                                    [key], {});\n",
              "        if (!dataTable) return;\n",
              "\n",
              "        const docLinkHtml = 'Like what you see? Visit the ' +\n",
              "          '<a target=\"_blank\" href=https://colab.research.google.com/notebooks/data_table.ipynb>data table notebook</a>'\n",
              "          + ' to learn more about interactive tables.';\n",
              "        element.innerHTML = '';\n",
              "        dataTable['output_type'] = 'display_data';\n",
              "        await google.colab.output.renderOutput(dataTable, element);\n",
              "        const docLink = document.createElement('div');\n",
              "        docLink.innerHTML = docLinkHtml;\n",
              "        element.appendChild(docLink);\n",
              "      }\n",
              "    </script>\n",
              "  </div>\n",
              "\n",
              "\n",
              "<div id=\"df-ae6fb920-158b-4b79-92a7-52fc502828ce\">\n",
              "  <button class=\"colab-df-quickchart\" onclick=\"quickchart('df-ae6fb920-158b-4b79-92a7-52fc502828ce')\"\n",
              "            title=\"Suggest charts\"\n",
              "            style=\"display:none;\">\n",
              "\n",
              "<svg xmlns=\"http://www.w3.org/2000/svg\" height=\"24px\"viewBox=\"0 0 24 24\"\n",
              "     width=\"24px\">\n",
              "    <g>\n",
              "        <path d=\"M19 3H5c-1.1 0-2 .9-2 2v14c0 1.1.9 2 2 2h14c1.1 0 2-.9 2-2V5c0-1.1-.9-2-2-2zM9 17H7v-7h2v7zm4 0h-2V7h2v10zm4 0h-2v-4h2v4z\"/>\n",
              "    </g>\n",
              "</svg>\n",
              "  </button>\n",
              "\n",
              "<style>\n",
              "  .colab-df-quickchart {\n",
              "      --bg-color: #E8F0FE;\n",
              "      --fill-color: #1967D2;\n",
              "      --hover-bg-color: #E2EBFA;\n",
              "      --hover-fill-color: #174EA6;\n",
              "      --disabled-fill-color: #AAA;\n",
              "      --disabled-bg-color: #DDD;\n",
              "  }\n",
              "\n",
              "  [theme=dark] .colab-df-quickchart {\n",
              "      --bg-color: #3B4455;\n",
              "      --fill-color: #D2E3FC;\n",
              "      --hover-bg-color: #434B5C;\n",
              "      --hover-fill-color: #FFFFFF;\n",
              "      --disabled-bg-color: #3B4455;\n",
              "      --disabled-fill-color: #666;\n",
              "  }\n",
              "\n",
              "  .colab-df-quickchart {\n",
              "    background-color: var(--bg-color);\n",
              "    border: none;\n",
              "    border-radius: 50%;\n",
              "    cursor: pointer;\n",
              "    display: none;\n",
              "    fill: var(--fill-color);\n",
              "    height: 32px;\n",
              "    padding: 0;\n",
              "    width: 32px;\n",
              "  }\n",
              "\n",
              "  .colab-df-quickchart:hover {\n",
              "    background-color: var(--hover-bg-color);\n",
              "    box-shadow: 0 1px 2px rgba(60, 64, 67, 0.3), 0 1px 3px 1px rgba(60, 64, 67, 0.15);\n",
              "    fill: var(--button-hover-fill-color);\n",
              "  }\n",
              "\n",
              "  .colab-df-quickchart-complete:disabled,\n",
              "  .colab-df-quickchart-complete:disabled:hover {\n",
              "    background-color: var(--disabled-bg-color);\n",
              "    fill: var(--disabled-fill-color);\n",
              "    box-shadow: none;\n",
              "  }\n",
              "\n",
              "  .colab-df-spinner {\n",
              "    border: 2px solid var(--fill-color);\n",
              "    border-color: transparent;\n",
              "    border-bottom-color: var(--fill-color);\n",
              "    animation:\n",
              "      spin 1s steps(1) infinite;\n",
              "  }\n",
              "\n",
              "  @keyframes spin {\n",
              "    0% {\n",
              "      border-color: transparent;\n",
              "      border-bottom-color: var(--fill-color);\n",
              "      border-left-color: var(--fill-color);\n",
              "    }\n",
              "    20% {\n",
              "      border-color: transparent;\n",
              "      border-left-color: var(--fill-color);\n",
              "      border-top-color: var(--fill-color);\n",
              "    }\n",
              "    30% {\n",
              "      border-color: transparent;\n",
              "      border-left-color: var(--fill-color);\n",
              "      border-top-color: var(--fill-color);\n",
              "      border-right-color: var(--fill-color);\n",
              "    }\n",
              "    40% {\n",
              "      border-color: transparent;\n",
              "      border-right-color: var(--fill-color);\n",
              "      border-top-color: var(--fill-color);\n",
              "    }\n",
              "    60% {\n",
              "      border-color: transparent;\n",
              "      border-right-color: var(--fill-color);\n",
              "    }\n",
              "    80% {\n",
              "      border-color: transparent;\n",
              "      border-right-color: var(--fill-color);\n",
              "      border-bottom-color: var(--fill-color);\n",
              "    }\n",
              "    90% {\n",
              "      border-color: transparent;\n",
              "      border-bottom-color: var(--fill-color);\n",
              "    }\n",
              "  }\n",
              "</style>\n",
              "\n",
              "  <script>\n",
              "    async function quickchart(key) {\n",
              "      const quickchartButtonEl =\n",
              "        document.querySelector('#' + key + ' button');\n",
              "      quickchartButtonEl.disabled = true;  // To prevent multiple clicks.\n",
              "      quickchartButtonEl.classList.add('colab-df-spinner');\n",
              "      try {\n",
              "        const charts = await google.colab.kernel.invokeFunction(\n",
              "            'suggestCharts', [key], {});\n",
              "      } catch (error) {\n",
              "        console.error('Error during call to suggestCharts:', error);\n",
              "      }\n",
              "      quickchartButtonEl.classList.remove('colab-df-spinner');\n",
              "      quickchartButtonEl.classList.add('colab-df-quickchart-complete');\n",
              "    }\n",
              "    (() => {\n",
              "      let quickchartButtonEl =\n",
              "        document.querySelector('#df-ae6fb920-158b-4b79-92a7-52fc502828ce button');\n",
              "      quickchartButtonEl.style.display =\n",
              "        google.colab.kernel.accessAllowed ? 'block' : 'none';\n",
              "    })();\n",
              "  </script>\n",
              "</div>\n",
              "\n",
              "    </div>\n",
              "  </div>\n"
            ],
            "application/vnd.google.colaboratory.intrinsic+json": {
              "type": "dataframe",
              "variable_name": "train"
            }
          },
          "metadata": {},
          "execution_count": 11
        }
      ]
    },
    {
      "cell_type": "code",
      "source": [
        "train['Patient Id'].duplicated().any()"
      ],
      "metadata": {
        "id": "Acip8YsAgNx2",
        "outputId": "2ab919b1-d291-4d3d-cceb-b923e640e25c",
        "colab": {
          "base_uri": "https://localhost:8080/"
        }
      },
      "id": "Acip8YsAgNx2",
      "execution_count": 12,
      "outputs": [
        {
          "output_type": "execute_result",
          "data": {
            "text/plain": [
              "True"
            ]
          },
          "metadata": {},
          "execution_count": 12
        }
      ]
    },
    {
      "cell_type": "code",
      "source": [
        "train['Patient Age'].describe()"
      ],
      "metadata": {
        "id": "EkIQuSeWgVpP",
        "outputId": "2a7ec01b-d076-48fd-dcf9-b2aa61996183",
        "colab": {
          "base_uri": "https://localhost:8080/",
          "height": 335
        }
      },
      "id": "EkIQuSeWgVpP",
      "execution_count": 13,
      "outputs": [
        {
          "output_type": "execute_result",
          "data": {
            "text/plain": [
              "count    19643.000000\n",
              "mean         6.974851\n",
              "std          4.322584\n",
              "min          0.000000\n",
              "25%          3.000000\n",
              "50%          7.000000\n",
              "75%         11.000000\n",
              "max         14.000000\n",
              "Name: Patient Age, dtype: float64"
            ],
            "text/html": [
              "<div>\n",
              "<style scoped>\n",
              "    .dataframe tbody tr th:only-of-type {\n",
              "        vertical-align: middle;\n",
              "    }\n",
              "\n",
              "    .dataframe tbody tr th {\n",
              "        vertical-align: top;\n",
              "    }\n",
              "\n",
              "    .dataframe thead th {\n",
              "        text-align: right;\n",
              "    }\n",
              "</style>\n",
              "<table border=\"1\" class=\"dataframe\">\n",
              "  <thead>\n",
              "    <tr style=\"text-align: right;\">\n",
              "      <th></th>\n",
              "      <th>Patient Age</th>\n",
              "    </tr>\n",
              "  </thead>\n",
              "  <tbody>\n",
              "    <tr>\n",
              "      <th>count</th>\n",
              "      <td>19643.000000</td>\n",
              "    </tr>\n",
              "    <tr>\n",
              "      <th>mean</th>\n",
              "      <td>6.974851</td>\n",
              "    </tr>\n",
              "    <tr>\n",
              "      <th>std</th>\n",
              "      <td>4.322584</td>\n",
              "    </tr>\n",
              "    <tr>\n",
              "      <th>min</th>\n",
              "      <td>0.000000</td>\n",
              "    </tr>\n",
              "    <tr>\n",
              "      <th>25%</th>\n",
              "      <td>3.000000</td>\n",
              "    </tr>\n",
              "    <tr>\n",
              "      <th>50%</th>\n",
              "      <td>7.000000</td>\n",
              "    </tr>\n",
              "    <tr>\n",
              "      <th>75%</th>\n",
              "      <td>11.000000</td>\n",
              "    </tr>\n",
              "    <tr>\n",
              "      <th>max</th>\n",
              "      <td>14.000000</td>\n",
              "    </tr>\n",
              "  </tbody>\n",
              "</table>\n",
              "</div><br><label><b>dtype:</b> float64</label>"
            ]
          },
          "metadata": {},
          "execution_count": 13
        }
      ]
    },
    {
      "cell_type": "code",
      "source": [
        "train['Patient Age'].isnull().any()"
      ],
      "metadata": {
        "id": "IYBbQUROgXhx",
        "outputId": "5ce5a909-e064-40a8-ee1f-f96d9a192a5c",
        "colab": {
          "base_uri": "https://localhost:8080/"
        }
      },
      "id": "IYBbQUROgXhx",
      "execution_count": 14,
      "outputs": [
        {
          "output_type": "execute_result",
          "data": {
            "text/plain": [
              "True"
            ]
          },
          "metadata": {},
          "execution_count": 14
        }
      ]
    },
    {
      "cell_type": "code",
      "source": [
        "train[\"Genes in mother's side\"].unique()"
      ],
      "metadata": {
        "id": "wstRtTZfg1vH",
        "outputId": "afc0a9cb-15bf-43eb-f8a1-e5585f8f7865",
        "colab": {
          "base_uri": "https://localhost:8080/"
        }
      },
      "id": "wstRtTZfg1vH",
      "execution_count": 15,
      "outputs": [
        {
          "output_type": "execute_result",
          "data": {
            "text/plain": [
              "array(['Yes', 'No', nan], dtype=object)"
            ]
          },
          "metadata": {},
          "execution_count": 15
        }
      ]
    },
    {
      "cell_type": "code",
      "source": [
        "fig = plt.figure(figsize=(20,2))\n",
        "colors = {'Yes': 'red', 'No': 'blue'}\n",
        "sns.countplot(y= \"Genes in mother's side\",data= train, palette=colors)\n",
        "\n",
        "print(train[\"Genes in mother's side\"].value_counts())"
      ],
      "metadata": {
        "id": "MzcbqHqthBzm",
        "outputId": "f4496fa2-1e13-458e-ffb9-19ec5d2659ca",
        "colab": {
          "base_uri": "https://localhost:8080/",
          "height": 274
        }
      },
      "id": "MzcbqHqthBzm",
      "execution_count": 27,
      "outputs": [
        {
          "output_type": "stream",
          "name": "stdout",
          "text": [
            "Genes in mother's side\n",
            "Yes    12509\n",
            "No      8502\n",
            "Name: count, dtype: int64\n"
          ]
        },
        {
          "output_type": "display_data",
          "data": {
            "text/plain": [
              "<Figure size 2000x200 with 1 Axes>"
            ],
            "image/png": "[encoded data removed]"
          },
          "metadata": {}
        }
      ]
    },
    {
      "cell_type": "code",
      "source": [
        "train[\"Inherited from father\"].unique()"
      ],
      "metadata": {
        "id": "kiszygdBhHTT",
        "outputId": "4382df7f-c9a7-4400-d5fd-278d6580bbf4",
        "colab": {
          "base_uri": "https://localhost:8080/"
        }
      },
      "id": "kiszygdBhHTT",
      "execution_count": 17,
      "outputs": [
        {
          "output_type": "execute_result",
          "data": {
            "text/plain": [
              "array(['No', 'Yes', nan], dtype=object)"
            ]
          },
          "metadata": {},
          "execution_count": 17
        }
      ]
    },
    {
      "cell_type": "code",
      "source": [
        "fig = plt.figure(figsize=(20,2))\n",
        "colors = {'Yes': 'red', 'No': 'blue'}\n",
        "sns.countplot(y= \"Inherited from father\",data= train, palette=colors)\n",
        "\n",
        "print(train[\"Inherited from father\"].value_counts())"
      ],
      "metadata": {
        "id": "KPfY1NKrhKq3",
        "outputId": "f4961a09-93bf-4e0c-d460-a8fd6dd76785",
        "colab": {
          "base_uri": "https://localhost:8080/",
          "height": 274
        }
      },
      "id": "KPfY1NKrhKq3",
      "execution_count": 26,
      "outputs": [
        {
          "output_type": "stream",
          "name": "stdout",
          "text": [
            "Inherited from father\n",
            "No     12508\n",
            "Yes     8216\n",
            "Name: count, dtype: int64\n"
          ]
        },
        {
          "output_type": "display_data",
          "data": {
            "text/plain": [
              "<Figure size 2000x200 with 1 Axes>"
            ],
            "image/png": "[encoded data removed]"
          },
          "metadata": {}
        }
      ]
    },
    {
      "cell_type": "code",
      "source": [
        "train[\"Maternal gene\"].unique()"
      ],
      "metadata": {
        "id": "R_mgg4gphrfv",
        "outputId": "0f26e67f-36e0-4528-e612-c9367d9996a8",
        "colab": {
          "base_uri": "https://localhost:8080/"
        }
      },
      "id": "R_mgg4gphrfv",
      "execution_count": 19,
      "outputs": [
        {
          "output_type": "execute_result",
          "data": {
            "text/plain": [
              "array(['Yes', 'No', nan], dtype=object)"
            ]
          },
          "metadata": {},
          "execution_count": 19
        }
      ]
    },
    {
      "cell_type": "code",
      "source": [
        "fig = plt.figure(figsize=(20,2))\n",
        "colors = {'Yes': 'red', 'No': 'blue'}  # Define color mapping\n",
        "sns.countplot(y=\"Maternal gene\", data=train, palette=colors)\n",
        "\n",
        "print(train[\"Maternal gene\"].value_counts())"
      ],
      "metadata": {
        "id": "w2Rlojn5hwa1",
        "outputId": "a8ed109b-2515-4b79-ec00-7a6f3ceaec0d",
        "colab": {
          "base_uri": "https://localhost:8080/",
          "height": 274
        }
      },
      "id": "w2Rlojn5hwa1",
      "execution_count": 22,
      "outputs": [
        {
          "output_type": "stream",
          "name": "stdout",
          "text": [
            "Maternal gene\n",
            "Yes    10125\n",
            "No      8192\n",
            "Name: count, dtype: int64\n"
          ]
        },
        {
          "output_type": "display_data",
          "data": {
            "text/plain": [
              "<Figure size 2000x200 with 1 Axes>"
            ],
            "image/png": "[encoded data removed]"
          },
          "metadata": {}
        }
      ]
    },
    {
      "cell_type": "code",
      "source": [
        "train[\"Paternal gene\"].unique()"
      ],
      "metadata": {
        "id": "UzPDtcU6jQj0",
        "outputId": "eae7db5e-f222-4232-8506-b789eceb5dbc",
        "colab": {
          "base_uri": "https://localhost:8080/"
        }
      },
      "id": "UzPDtcU6jQj0",
      "execution_count": 28,
      "outputs": [
        {
          "output_type": "execute_result",
          "data": {
            "text/plain": [
              "array(['No', 'Yes', nan], dtype=object)"
            ]
          },
          "metadata": {},
          "execution_count": 28
        }
      ]
    },
    {
      "cell_type": "code",
      "source": [
        "fig = plt.figure(figsize=(20,2))\n",
        "colors = {'Yes': 'red', 'No': 'blue'}\n",
        "sns.countplot(y= \"Paternal gene\",data= train, palette=colors)\n",
        "\n",
        "print(train[\"Paternal gene\"].value_counts())"
      ],
      "metadata": {
        "id": "WKFd4FJhjXyf",
        "outputId": "9a5019d8-9a35-447a-b039-7dde897eee80",
        "colab": {
          "base_uri": "https://localhost:8080/",
          "height": 274
        }
      },
      "id": "WKFd4FJhjXyf",
      "execution_count": 29,
      "outputs": [
        {
          "output_type": "stream",
          "name": "stdout",
          "text": [
            "Paternal gene\n",
            "No     11887\n",
            "Yes     9124\n",
            "Name: count, dtype: int64\n"
          ]
        },
        {
          "output_type": "display_data",
          "data": {
            "text/plain": [
              "<Figure size 2000x200 with 1 Axes>"
            ],
            "image/png": "[encoded data removed]"
          },
          "metadata": {}
        }
      ]
    },
    {
      "cell_type": "code",
      "source": [
        "train['Blood cell count (mcL)'].describe()"
      ],
      "metadata": {
        "id": "0-l04eaijkKl",
        "outputId": "5d56e67b-f9ee-42ca-ac5e-e728457ba95b",
        "colab": {
          "base_uri": "https://localhost:8080/",
          "height": 335
        }
      },
      "id": "0-l04eaijkKl",
      "execution_count": 30,
      "outputs": [
        {
          "output_type": "execute_result",
          "data": {
            "text/plain": [
              "count    21011.000000\n",
              "mean         4.899004\n",
              "std          0.199829\n",
              "min          4.092727\n",
              "25%          4.763230\n",
              "50%          4.899548\n",
              "75%          5.033977\n",
              "max          5.609829\n",
              "Name: Blood cell count (mcL), dtype: float64"
            ],
            "text/html": [
              "<div>\n",
              "<style scoped>\n",
              "    .dataframe tbody tr th:only-of-type {\n",
              "        vertical-align: middle;\n",
              "    }\n",
              "\n",
              "    .dataframe tbody tr th {\n",
              "        vertical-align: top;\n",
              "    }\n",
              "\n",
              "    .dataframe thead th {\n",
              "        text-align: right;\n",
              "    }\n",
              "</style>\n",
              "<table border=\"1\" class=\"dataframe\">\n",
              "  <thead>\n",
              "    <tr style=\"text-align: right;\">\n",
              "      <th></th>\n",
              "      <th>Blood cell count (mcL)</th>\n",
              "    </tr>\n",
              "  </thead>\n",
              "  <tbody>\n",
              "    <tr>\n",
              "      <th>count</th>\n",
              "      <td>21011.000000</td>\n",
              "    </tr>\n",
              "    <tr>\n",
              "      <th>mean</th>\n",
              "      <td>4.899004</td>\n",
              "    </tr>\n",
              "    <tr>\n",
              "      <th>std</th>\n",
              "      <td>0.199829</td>\n",
              "    </tr>\n",
              "    <tr>\n",
              "      <th>min</th>\n",
              "      <td>4.092727</td>\n",
              "    </tr>\n",
              "    <tr>\n",
              "      <th>25%</th>\n",
              "      <td>4.763230</td>\n",
              "    </tr>\n",
              "    <tr>\n",
              "      <th>50%</th>\n",
              "      <td>4.899548</td>\n",
              "    </tr>\n",
              "    <tr>\n",
              "      <th>75%</th>\n",
              "      <td>5.033977</td>\n",
              "    </tr>\n",
              "    <tr>\n",
              "      <th>max</th>\n",
              "      <td>5.609829</td>\n",
              "    </tr>\n",
              "  </tbody>\n",
              "</table>\n",
              "</div><br><label><b>dtype:</b> float64</label>"
            ]
          },
          "metadata": {},
          "execution_count": 30
        }
      ]
    },
    {
      "cell_type": "code",
      "source": [
        "train['Blood cell count (mcL)'].isnull().any()"
      ],
      "metadata": {
        "id": "klnOfBQcjpDH",
        "outputId": "5ea6f2ff-87f3-4df0-8616-36ffbe7eb2e0",
        "colab": {
          "base_uri": "https://localhost:8080/"
        }
      },
      "id": "klnOfBQcjpDH",
      "execution_count": 31,
      "outputs": [
        {
          "output_type": "execute_result",
          "data": {
            "text/plain": [
              "True"
            ]
          },
          "metadata": {},
          "execution_count": 31
        }
      ]
    },
    {
      "cell_type": "code",
      "source": [
        "sns.distplot(train['Blood cell count (mcL)'], fit= norm, color= 'tab:blue')"
      ],
      "metadata": {
        "id": "EEmVCVMtj0Xp",
        "outputId": "3cf4a86a-faa0-437b-fadd-abc81131ff3b",
        "colab": {
          "base_uri": "https://localhost:8080/",
          "height": 470
        }
      },
      "id": "EEmVCVMtj0Xp",
      "execution_count": 32,
      "outputs": [
        {
          "output_type": "execute_result",
          "data": {
            "text/plain": [
              "<Axes: xlabel='Blood cell count (mcL)', ylabel='Density'>"
            ]
          },
          "metadata": {},
          "execution_count": 32
        },
        {
          "output_type": "display_data",
          "data": {
            "text/plain": [
              "<Figure size 640x480 with 1 Axes>"
            ],
            "image/png": "[encoded data removed]"
          },
          "metadata": {}
        }
      ]
    },
    {
      "cell_type": "code",
      "source": [
        "sns.boxplot(x= train['Blood cell count (mcL)'])"
      ],
      "metadata": {
        "id": "UddlEfs1j4Ip",
        "outputId": "1cf12798-1402-4949-cfdf-7a1412ec35df",
        "colab": {
          "base_uri": "https://localhost:8080/",
          "height": 470
        }
      },
      "id": "UddlEfs1j4Ip",
      "execution_count": 33,
      "outputs": [
        {
          "output_type": "execute_result",
          "data": {
            "text/plain": [
              "<Axes: xlabel='Blood cell count (mcL)'>"
            ]
          },
          "metadata": {},
          "execution_count": 33
        },
        {
          "output_type": "display_data",
          "data": {
            "text/plain": [
              "<Figure size 640x480 with 1 Axes>"
            ],
            "image/png": "[encoded data removed]"
          },
          "metadata": {}
        }
      ]
    },
    {
      "cell_type": "code",
      "source": [
        "train[\"Mother's age\"].isnull().any()"
      ],
      "metadata": {
        "id": "m1laD0Rlj7zw",
        "outputId": "1aa373a5-8fa2-41a2-82ee-b1ea00d67f00",
        "colab": {
          "base_uri": "https://localhost:8080/"
        }
      },
      "id": "m1laD0Rlj7zw",
      "execution_count": 34,
      "outputs": [
        {
          "output_type": "execute_result",
          "data": {
            "text/plain": [
              "True"
            ]
          },
          "metadata": {},
          "execution_count": 34
        }
      ]
    },
    {
      "cell_type": "code",
      "source": [
        "train[\"Mother's age\"].describe()"
      ],
      "metadata": {
        "id": "TPLLeSedj_zW",
        "outputId": "fc39be87-de0f-4c5e-971c-0bc1954d111a",
        "colab": {
          "base_uri": "https://localhost:8080/",
          "height": 335
        }
      },
      "id": "TPLLeSedj_zW",
      "execution_count": 35,
      "outputs": [
        {
          "output_type": "execute_result",
          "data": {
            "text/plain": [
              "count    15293.000000\n",
              "mean        34.522527\n",
              "std          9.847256\n",
              "min         18.000000\n",
              "25%         26.000000\n",
              "50%         35.000000\n",
              "75%         43.000000\n",
              "max         51.000000\n",
              "Name: Mother's age, dtype: float64"
            ],
            "text/html": [
              "<div>\n",
              "<style scoped>\n",
              "    .dataframe tbody tr th:only-of-type {\n",
              "        vertical-align: middle;\n",
              "    }\n",
              "\n",
              "    .dataframe tbody tr th {\n",
              "        vertical-align: top;\n",
              "    }\n",
              "\n",
              "    .dataframe thead th {\n",
              "        text-align: right;\n",
              "    }\n",
              "</style>\n",
              "<table border=\"1\" class=\"dataframe\">\n",
              "  <thead>\n",
              "    <tr style=\"text-align: right;\">\n",
              "      <th></th>\n",
              "      <th>Mother's age</th>\n",
              "    </tr>\n",
              "  </thead>\n",
              "  <tbody>\n",
              "    <tr>\n",
              "      <th>count</th>\n",
              "      <td>15293.000000</td>\n",
              "    </tr>\n",
              "    <tr>\n",
              "      <th>mean</th>\n",
              "      <td>34.522527</td>\n",
              "    </tr>\n",
              "    <tr>\n",
              "      <th>std</th>\n",
              "      <td>9.847256</td>\n",
              "    </tr>\n",
              "    <tr>\n",
              "      <th>min</th>\n",
              "      <td>18.000000</td>\n",
              "    </tr>\n",
              "    <tr>\n",
              "      <th>25%</th>\n",
              "      <td>26.000000</td>\n",
              "    </tr>\n",
              "    <tr>\n",
              "      <th>50%</th>\n",
              "      <td>35.000000</td>\n",
              "    </tr>\n",
              "    <tr>\n",
              "      <th>75%</th>\n",
              "      <td>43.000000</td>\n",
              "    </tr>\n",
              "    <tr>\n",
              "      <th>max</th>\n",
              "      <td>51.000000</td>\n",
              "    </tr>\n",
              "  </tbody>\n",
              "</table>\n",
              "</div><br><label><b>dtype:</b> float64</label>"
            ]
          },
          "metadata": {},
          "execution_count": 35
        }
      ]
    },
    {
      "cell_type": "code",
      "source": [
        "train[\"Father's age\"].isnull().any()"
      ],
      "metadata": {
        "id": "gHAsgZgCkBht",
        "outputId": "949906b1-65ae-4a8f-dbeb-6dffd8c06694",
        "colab": {
          "base_uri": "https://localhost:8080/"
        }
      },
      "id": "gHAsgZgCkBht",
      "execution_count": 36,
      "outputs": [
        {
          "output_type": "execute_result",
          "data": {
            "text/plain": [
              "True"
            ]
          },
          "metadata": {},
          "execution_count": 36
        }
      ]
    },
    {
      "cell_type": "code",
      "source": [
        "train[\"Father's age\"].describe()"
      ],
      "metadata": {
        "id": "9DYRx8rwkGOD",
        "outputId": "f84c32a8-9b28-494a-f69f-be7e2d557b56",
        "colab": {
          "base_uri": "https://localhost:8080/",
          "height": 335
        }
      },
      "id": "9DYRx8rwkGOD",
      "execution_count": 37,
      "outputs": [
        {
          "output_type": "execute_result",
          "data": {
            "text/plain": [
              "count    15322.000000\n",
              "mean        41.942436\n",
              "std         13.027701\n",
              "min         20.000000\n",
              "25%         31.000000\n",
              "50%         42.000000\n",
              "75%         53.000000\n",
              "max         64.000000\n",
              "Name: Father's age, dtype: float64"
            ],
            "text/html": [
              "<div>\n",
              "<style scoped>\n",
              "    .dataframe tbody tr th:only-of-type {\n",
              "        vertical-align: middle;\n",
              "    }\n",
              "\n",
              "    .dataframe tbody tr th {\n",
              "        vertical-align: top;\n",
              "    }\n",
              "\n",
              "    .dataframe thead th {\n",
              "        text-align: right;\n",
              "    }\n",
              "</style>\n",
              "<table border=\"1\" class=\"dataframe\">\n",
              "  <thead>\n",
              "    <tr style=\"text-align: right;\">\n",
              "      <th></th>\n",
              "      <th>Father's age</th>\n",
              "    </tr>\n",
              "  </thead>\n",
              "  <tbody>\n",
              "    <tr>\n",
              "      <th>count</th>\n",
              "      <td>15322.000000</td>\n",
              "    </tr>\n",
              "    <tr>\n",
              "      <th>mean</th>\n",
              "      <td>41.942436</td>\n",
              "    </tr>\n",
              "    <tr>\n",
              "      <th>std</th>\n",
              "      <td>13.027701</td>\n",
              "    </tr>\n",
              "    <tr>\n",
              "      <th>min</th>\n",
              "      <td>20.000000</td>\n",
              "    </tr>\n",
              "    <tr>\n",
              "      <th>25%</th>\n",
              "      <td>31.000000</td>\n",
              "    </tr>\n",
              "    <tr>\n",
              "      <th>50%</th>\n",
              "      <td>42.000000</td>\n",
              "    </tr>\n",
              "    <tr>\n",
              "      <th>75%</th>\n",
              "      <td>53.000000</td>\n",
              "    </tr>\n",
              "    <tr>\n",
              "      <th>max</th>\n",
              "      <td>64.000000</td>\n",
              "    </tr>\n",
              "  </tbody>\n",
              "</table>\n",
              "</div><br><label><b>dtype:</b> float64</label>"
            ]
          },
          "metadata": {},
          "execution_count": 37
        }
      ]
    },
    {
      "cell_type": "code",
      "source": [
        "train[\"Status\"].unique()"
      ],
      "metadata": {
        "id": "lkWjin78kH-B",
        "outputId": "84b280ea-d789-428d-d98f-0f598c126b2d",
        "colab": {
          "base_uri": "https://localhost:8080/"
        }
      },
      "id": "lkWjin78kH-B",
      "execution_count": 38,
      "outputs": [
        {
          "output_type": "execute_result",
          "data": {
            "text/plain": [
              "array(['Alive', 'Deceased', nan], dtype=object)"
            ]
          },
          "metadata": {},
          "execution_count": 38
        }
      ]
    },
    {
      "cell_type": "code",
      "source": [
        "fig = plt.figure(figsize=(20,2))\n",
        "colors = {'Alive': 'red', 'Deceased': 'blue'}\n",
        "sns.countplot(y= \"Status\",data= train, palette=colors)\n",
        "\n",
        "print(train[\"Status\"].value_counts())"
      ],
      "metadata": {
        "id": "jVmG5_DbkKya",
        "outputId": "a8baa048-8c91-458b-95e8-e52fc641a199",
        "colab": {
          "base_uri": "https://localhost:8080/",
          "height": 269
        }
      },
      "id": "jVmG5_DbkKya",
      "execution_count": 40,
      "outputs": [
        {
          "output_type": "stream",
          "name": "stdout",
          "text": [
            "Status\n",
            "Alive       10572\n",
            "Deceased    10439\n",
            "Name: count, dtype: int64\n"
          ]
        },
        {
          "output_type": "display_data",
          "data": {
            "text/plain": [
              "<Figure size 2000x200 with 1 Axes>"
            ],
            "image/png": "[encoded data removed]"
          },
          "metadata": {}
        }
      ]
    },
    {
      "cell_type": "code",
      "source": [
        "train[\"Respiratory Rate (breaths/min)\"].unique()"
      ],
      "metadata": {
        "id": "15voSUPKktx5",
        "outputId": "e368c037-a2fb-4728-a7c5-55868188d0a4",
        "colab": {
          "base_uri": "https://localhost:8080/"
        }
      },
      "id": "15voSUPKktx5",
      "execution_count": 41,
      "outputs": [
        {
          "output_type": "execute_result",
          "data": {
            "text/plain": [
              "array(['Normal (30-60)', 'Tachypnea', nan], dtype=object)"
            ]
          },
          "metadata": {},
          "execution_count": 41
        }
      ]
    },
    {
      "cell_type": "code",
      "source": [
        "fig = plt.figure(figsize=(20,2))\n",
        "colors = {'Normal (30-60)': 'red', 'Tachypnea': 'blue'}\n",
        "sns.countplot(y= \"Respiratory Rate (breaths/min)\",data= train, palette=colors)\n",
        "\n",
        "print(train[\"Respiratory Rate (breaths/min)\"].value_counts())"
      ],
      "metadata": {
        "id": "FsNFpD5ckxEg",
        "outputId": "c8914cef-da68-4c04-84f6-f150566cffab",
        "colab": {
          "base_uri": "https://localhost:8080/",
          "height": 264
        }
      },
      "id": "FsNFpD5ckxEg",
      "execution_count": 43,
      "outputs": [
        {
          "output_type": "stream",
          "name": "stdout",
          "text": [
            "Respiratory Rate (breaths/min)\n",
            "Normal (30-60)    9595\n",
            "Tachypnea         9357\n",
            "Name: count, dtype: int64\n"
          ]
        },
        {
          "output_type": "display_data",
          "data": {
            "text/plain": [
              "<Figure size 2000x200 with 1 Axes>"
            ],
            "image/png": "[encoded data removed]"
          },
          "metadata": {}
        }
      ]
    },
    {
      "cell_type": "code",
      "source": [
        "train[\"Heart Rate (rates/min\"].unique()"
      ],
      "metadata": {
        "id": "XZ7URr6clIOo",
        "outputId": "a6bfe107-0f15-4b47-8eb5-f421a8477fae",
        "colab": {
          "base_uri": "https://localhost:8080/"
        }
      },
      "id": "XZ7URr6clIOo",
      "execution_count": 49,
      "outputs": [
        {
          "output_type": "execute_result",
          "data": {
            "text/plain": [
              "array(['Normal', 'Tachycardia', nan], dtype=object)"
            ]
          },
          "metadata": {},
          "execution_count": 49
        }
      ]
    },
    {
      "cell_type": "code",
      "source": [
        "fig = plt.figure(figsize=(20,2))\n",
        "colors = {'Normal': 'red', 'Tachycardia': 'blue'}\n",
        "sns.countplot(y= \"Heart Rate (rates/min\",data= train, palette=colors)\n",
        "\n",
        "print(train[\"Heart Rate (rates/min\"].value_counts())"
      ],
      "metadata": {
        "id": "NJoIwJf-lJ-0",
        "outputId": "f8386273-dba9-4134-e9c1-5b4202355f3a",
        "colab": {
          "base_uri": "https://localhost:8080/",
          "height": 268
        }
      },
      "id": "NJoIwJf-lJ-0",
      "execution_count": 50,
      "outputs": [
        {
          "output_type": "stream",
          "name": "stdout",
          "text": [
            "Heart Rate (rates/min\n",
            "Normal         9715\n",
            "Tachycardia    9271\n",
            "Name: count, dtype: int64\n"
          ]
        },
        {
          "output_type": "display_data",
          "data": {
            "text/plain": [
              "<Figure size 2000x200 with 1 Axes>"
            ],
            "image/png": "[encoded data removed]"
          },
          "metadata": {}
        }
      ]
    },
    {
      "cell_type": "code",
      "source": [
        "print(f\"Uniqueness for Test 1 is: {train['Test 1'].unique()}\")\n",
        "print()\n",
        "print(f\"Uniqueness for Test 2 is: {train['Test 2'].unique()}\")\n",
        "print()\n",
        "print(f\"Uniqueness for Test 3 is: {train['Test 3'].unique()}\")\n",
        "print()\n",
        "print(f\"Uniqueness for Test 4 is: {train['Test 4'].unique()}\")\n",
        "print()\n",
        "print(f\"Uniqueness for Test 5 is: {train['Test 5'].unique()}\")"
      ],
      "metadata": {
        "id": "m9agYCqMmiyl",
        "outputId": "7cfac976-b495-41bd-947f-2eeed585b869",
        "colab": {
          "base_uri": "https://localhost:8080/"
        }
      },
      "id": "m9agYCqMmiyl",
      "execution_count": 51,
      "outputs": [
        {
          "output_type": "stream",
          "name": "stdout",
          "text": [
            "Uniqueness for Test 1 is: [ 0. nan]\n",
            "\n",
            "Uniqueness for Test 2 is: [nan  0.]\n",
            "\n",
            "Uniqueness for Test 3 is: [nan  0.]\n",
            "\n",
            "Uniqueness for Test 4 is: [ 1. nan]\n",
            "\n",
            "Uniqueness for Test 5 is: [ 0. nan]\n"
          ]
        }
      ]
    },
    {
      "cell_type": "code",
      "source": [
        "print(f\"Count for Test 1 is: {train['Test 1'].value_counts()}\")\n",
        "print()\n",
        "print(f\"Count for Test 2 is: {train['Test 2'].value_counts()}\")\n",
        "print()\n",
        "print(f\"Count for Test 3 is: {train['Test 3'].value_counts()}\")\n",
        "print()\n",
        "print(f\"Count for Test 4 is: {train['Test 4'].value_counts()}\")\n",
        "print()\n",
        "print(f\"Count for Test 5 is: {train['Test 5'].value_counts()}\")"
      ],
      "metadata": {
        "id": "UPKBzlrRmoGa",
        "outputId": "7e233d3e-1bf6-427d-bb9e-c2d46e38b4bc",
        "colab": {
          "base_uri": "https://localhost:8080/"
        }
      },
      "id": "UPKBzlrRmoGa",
      "execution_count": 52,
      "outputs": [
        {
          "output_type": "stream",
          "name": "stdout",
          "text": [
            "Count for Test 1 is: Test 1\n",
            "0.0    18992\n",
            "Name: count, dtype: int64\n",
            "\n",
            "Count for Test 2 is: Test 2\n",
            "0.0    18958\n",
            "Name: count, dtype: int64\n",
            "\n",
            "Count for Test 3 is: Test 3\n",
            "0.0    18970\n",
            "Name: count, dtype: int64\n",
            "\n",
            "Count for Test 4 is: Test 4\n",
            "1.0    18962\n",
            "Name: count, dtype: int64\n",
            "\n",
            "Count for Test 5 is: Test 5\n",
            "0.0    18939\n",
            "Name: count, dtype: int64\n"
          ]
        }
      ]
    },
    {
      "cell_type": "code",
      "source": [
        "train[\"Parental consent\"].unique()"
      ],
      "metadata": {
        "id": "quY217BFmr-l",
        "outputId": "945a26d8-9537-4526-c1f5-002180d4ed63",
        "colab": {
          "base_uri": "https://localhost:8080/"
        }
      },
      "id": "quY217BFmr-l",
      "execution_count": 53,
      "outputs": [
        {
          "output_type": "execute_result",
          "data": {
            "text/plain": [
              "array(['Yes', nan], dtype=object)"
            ]
          },
          "metadata": {},
          "execution_count": 53
        }
      ]
    },
    {
      "cell_type": "code",
      "source": [
        "train[\"Parental consent\"].value_counts()"
      ],
      "metadata": {
        "id": "s7bJ2A5Nmu2x",
        "outputId": "3259e384-866c-4584-dce6-5aab63818eea",
        "colab": {
          "base_uri": "https://localhost:8080/",
          "height": 147
        }
      },
      "id": "s7bJ2A5Nmu2x",
      "execution_count": 54,
      "outputs": [
        {
          "output_type": "execute_result",
          "data": {
            "text/plain": [
              "Parental consent\n",
              "Yes    18991\n",
              "Name: count, dtype: int64"
            ],
            "text/html": [
              "<div>\n",
              "<style scoped>\n",
              "    .dataframe tbody tr th:only-of-type {\n",
              "        vertical-align: middle;\n",
              "    }\n",
              "\n",
              "    .dataframe tbody tr th {\n",
              "        vertical-align: top;\n",
              "    }\n",
              "\n",
              "    .dataframe thead th {\n",
              "        text-align: right;\n",
              "    }\n",
              "</style>\n",
              "<table border=\"1\" class=\"dataframe\">\n",
              "  <thead>\n",
              "    <tr style=\"text-align: right;\">\n",
              "      <th></th>\n",
              "      <th>count</th>\n",
              "    </tr>\n",
              "    <tr>\n",
              "      <th>Parental consent</th>\n",
              "      <th></th>\n",
              "    </tr>\n",
              "  </thead>\n",
              "  <tbody>\n",
              "    <tr>\n",
              "      <th>Yes</th>\n",
              "      <td>18991</td>\n",
              "    </tr>\n",
              "  </tbody>\n",
              "</table>\n",
              "</div><br><label><b>dtype:</b> int64</label>"
            ]
          },
          "metadata": {},
          "execution_count": 54
        }
      ]
    },
    {
      "cell_type": "code",
      "source": [
        "train[\"Follow-up\"].unique()"
      ],
      "metadata": {
        "id": "QcbIeWvrmy-c",
        "outputId": "08ee7934-1520-422a-cabf-f543a10af452",
        "colab": {
          "base_uri": "https://localhost:8080/"
        }
      },
      "id": "QcbIeWvrmy-c",
      "execution_count": 55,
      "outputs": [
        {
          "output_type": "execute_result",
          "data": {
            "text/plain": [
              "array(['High', 'Low', nan], dtype=object)"
            ]
          },
          "metadata": {},
          "execution_count": 55
        }
      ]
    },
    {
      "cell_type": "code",
      "source": [
        "fig = plt.figure(figsize=(20,2))\n",
        "colors = {'High': 'red', 'Low': 'blue'}\n",
        "sns.countplot(y= \"Follow-up\",data= train, palette=colors)\n",
        "\n",
        "print(train[\"Follow-up\"].value_counts())"
      ],
      "metadata": {
        "id": "leHO5eAgm2f9",
        "outputId": "8ba6a984-b138-42b9-8c8d-19f7a428fec3",
        "colab": {
          "base_uri": "https://localhost:8080/",
          "height": 272
        }
      },
      "id": "leHO5eAgm2f9",
      "execution_count": 56,
      "outputs": [
        {
          "output_type": "stream",
          "name": "stdout",
          "text": [
            "Follow-up\n",
            "Low     9564\n",
            "High    9377\n",
            "Name: count, dtype: int64\n"
          ]
        },
        {
          "output_type": "display_data",
          "data": {
            "text/plain": [
              "<Figure size 2000x200 with 1 Axes>"
            ],
            "image/png": "[encoded data removed]"
          },
          "metadata": {}
        }
      ]
    },
    {
      "cell_type": "code",
      "source": [
        "train[\"Gender\"].unique()"
      ],
      "metadata": {
        "id": "36spojIDnDor",
        "outputId": "c7685855-d55e-475c-f00b-8d559bbf908f",
        "colab": {
          "base_uri": "https://localhost:8080/"
        }
      },
      "id": "36spojIDnDor",
      "execution_count": 57,
      "outputs": [
        {
          "output_type": "execute_result",
          "data": {
            "text/plain": [
              "array([nan, 'Male', 'Female', 'Ambiguous'], dtype=object)"
            ]
          },
          "metadata": {},
          "execution_count": 57
        }
      ]
    },
    {
      "cell_type": "code",
      "source": [
        "fig = plt.figure(figsize=(20,3))\n",
        "colors = {'Male': 'red', 'Female': 'blue', 'Ambiguous': 'violet'}\n",
        "sns.countplot(y= \"Gender\",data= train, palette=colors)\n",
        "\n",
        "print(train[\"Gender\"].value_counts())"
      ],
      "metadata": {
        "id": "KD2I_h4pnHl0",
        "outputId": "c5debe77-2d6e-4d20-d563-884f3c491695",
        "colab": {
          "base_uri": "https://localhost:8080/",
          "height": 349
        }
      },
      "id": "KD2I_h4pnHl0",
      "execution_count": 60,
      "outputs": [
        {
          "output_type": "stream",
          "name": "stdout",
          "text": [
            "Gender\n",
            "Ambiguous    6385\n",
            "Male         6321\n",
            "Female       6242\n",
            "Name: count, dtype: int64\n"
          ]
        },
        {
          "output_type": "display_data",
          "data": {
            "text/plain": [
              "<Figure size 2000x300 with 1 Axes>"
            ],
            "image/png": "[encoded data removed]"
          },
          "metadata": {}
        }
      ]
    },
    {
      "cell_type": "code",
      "source": [
        "train[\"Birth asphyxia\"].unique()"
      ],
      "metadata": {
        "id": "X1wILEgxn8X7",
        "outputId": "1a290cb4-4129-4549-965c-f4f95847c40c",
        "colab": {
          "base_uri": "https://localhost:8080/"
        }
      },
      "id": "X1wILEgxn8X7",
      "execution_count": 61,
      "outputs": [
        {
          "output_type": "execute_result",
          "data": {
            "text/plain": [
              "array([nan, 'No', 'No record', 'Not available', 'Yes'], dtype=object)"
            ]
          },
          "metadata": {},
          "execution_count": 61
        }
      ]
    },
    {
      "cell_type": "code",
      "source": [
        "fig = plt.figure(figsize=(20,4))\n",
        "colors = {'No': 'red', 'No record': 'blue', 'Not available': 'violet', 'Yes': 'grey'}\n",
        "sns.countplot(y= \"Birth asphyxia\",data= train, palette=colors)\n",
        "\n",
        "print(train[\"Birth asphyxia\"].value_counts())"
      ],
      "metadata": {
        "id": "ugtqX43AoBh-",
        "outputId": "f378ecf2-a7bd-4514-a70e-f7101baca18a",
        "colab": {
          "base_uri": "https://localhost:8080/",
          "height": 427
        }
      },
      "id": "ugtqX43AoBh-",
      "execution_count": 62,
      "outputs": [
        {
          "output_type": "stream",
          "name": "stdout",
          "text": [
            "Birth asphyxia\n",
            "Yes              4839\n",
            "Not available    4755\n",
            "No record        4752\n",
            "No               4607\n",
            "Name: count, dtype: int64\n"
          ]
        },
        {
          "output_type": "display_data",
          "data": {
            "text/plain": [
              "<Figure size 2000x400 with 1 Axes>"
            ],
            "image/png": "[encoded data removed]"
          },
          "metadata": {}
        }
      ]
    },
    {
      "cell_type": "code",
      "source": [
        "train[\"Autopsy shows birth defect (if applicable)\"].unique()"
      ],
      "metadata": {
        "id": "iX17AB-poY2o",
        "outputId": "6901baa6-7e36-4493-f6b4-de34f31f6ce7",
        "colab": {
          "base_uri": "https://localhost:8080/"
        }
      },
      "id": "iX17AB-poY2o",
      "execution_count": 63,
      "outputs": [
        {
          "output_type": "execute_result",
          "data": {
            "text/plain": [
              "array(['Not applicable', nan, 'No', 'Yes'], dtype=object)"
            ]
          },
          "metadata": {},
          "execution_count": 63
        }
      ]
    },
    {
      "cell_type": "code",
      "source": [
        "fig = plt.figure(figsize=(20,4))\n",
        "colors = {'Not applicable': 'red', 'No': 'blue', 'Yes': 'violet'}\n",
        "sns.countplot(y= \"Autopsy shows birth defect (if applicable)\",data= train, palette=colors)\n",
        "\n",
        "print(train[\"Autopsy shows birth defect (if applicable)\"].value_counts())"
      ],
      "metadata": {
        "id": "rmosDrIkodtL",
        "outputId": "683f490e-d4ca-4bce-fa82-caff588dbca8",
        "colab": {
          "base_uri": "https://localhost:8080/",
          "height": 408
        }
      },
      "id": "rmosDrIkodtL",
      "execution_count": 64,
      "outputs": [
        {
          "output_type": "stream",
          "name": "stdout",
          "text": [
            "Autopsy shows birth defect (if applicable)\n",
            "Not applicable    10572\n",
            "Yes                3217\n",
            "No                 3058\n",
            "Name: count, dtype: int64\n"
          ]
        },
        {
          "output_type": "display_data",
          "data": {
            "text/plain": [
              "<Figure size 2000x400 with 1 Axes>"
            ],
            "image/png": "[encoded data removed]"
          },
          "metadata": {}
        }
      ]
    },
    {
      "cell_type": "code",
      "source": [
        "X = train[train[\"Autopsy shows birth defect (if applicable)\"].isnull() == True]\n",
        "X['Status'].value_counts()"
      ],
      "metadata": {
        "id": "gyFYlSPoownl",
        "outputId": "7994885a-5b42-4891-b330-0aacfb4da1ce",
        "colab": {
          "base_uri": "https://localhost:8080/",
          "height": 147
        }
      },
      "id": "gyFYlSPoownl",
      "execution_count": 65,
      "outputs": [
        {
          "output_type": "execute_result",
          "data": {
            "text/plain": [
              "Status\n",
              "Deceased    4164\n",
              "Name: count, dtype: int64"
            ],
            "text/html": [
              "<div>\n",
              "<style scoped>\n",
              "    .dataframe tbody tr th:only-of-type {\n",
              "        vertical-align: middle;\n",
              "    }\n",
              "\n",
              "    .dataframe tbody tr th {\n",
              "        vertical-align: top;\n",
              "    }\n",
              "\n",
              "    .dataframe thead th {\n",
              "        text-align: right;\n",
              "    }\n",
              "</style>\n",
              "<table border=\"1\" class=\"dataframe\">\n",
              "  <thead>\n",
              "    <tr style=\"text-align: right;\">\n",
              "      <th></th>\n",
              "      <th>count</th>\n",
              "    </tr>\n",
              "    <tr>\n",
              "      <th>Status</th>\n",
              "      <th></th>\n",
              "    </tr>\n",
              "  </thead>\n",
              "  <tbody>\n",
              "    <tr>\n",
              "      <th>Deceased</th>\n",
              "      <td>4164</td>\n",
              "    </tr>\n",
              "  </tbody>\n",
              "</table>\n",
              "</div><br><label><b>dtype:</b> int64</label>"
            ]
          },
          "metadata": {},
          "execution_count": 65
        }
      ]
    }
  ],
  "metadata": {
    "kernelspec": {
      "display_name": "Python 3",
      "name": "python3"
    },
    "language_info": {
      "name": "python"
    },
    "required_libs": [],
    "colab": {
      "provenance": [],
      "include_colab_link": true
    }
  },
  "nbformat": 4,
  "nbformat_minor": 5
}